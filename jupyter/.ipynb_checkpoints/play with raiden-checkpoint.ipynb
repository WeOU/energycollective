{
 "cells": [
  {
   "cell_type": "code",
   "execution_count": 66,
   "metadata": {},
   "outputs": [],
   "source": [
    "import requests as req\n",
    "import json"
   ]
  },
  {
   "cell_type": "code",
   "execution_count": 67,
   "metadata": {
    "collapsed": true
   },
   "outputs": [],
   "source": [
    "raiden1='http://localhost:6002'\n",
    "raiden2='http://localhost:6003'"
   ]
  },
  {
   "cell_type": "code",
   "execution_count": 169,
   "metadata": {
    "collapsed": true
   },
   "outputs": [],
   "source": [
    "troels1 = '0x0B85D3E6E064D10A173A21E5654DC9E2920DF2D8' #- Troels Primary\n",
    "troels2 = '0x0B4AE03434F747D59928B6480B21473FD3ED0B1E' #- Troels Secondary\n",
    "rp_troels = '0xcbf7cad97e21fabdc4ee39518a71e979e1255d00' #- Troels Raspberry\n",
    "pierre1= '0x00eb7c6b18f8f83aed4b84cbfd58aab184b46752' #- Pierre1 (Wallet on raiden1)\n",
    "pierre2= '0x0075703Bf50AeBe6755844C0c9B28CDB8F730933' #- Pierre2 (Wallet on raiden2)"
   ]
  },
  {
   "cell_type": "markdown",
   "metadata": {},
   "source": [
    "Just some convenience functions to pretty-print the JSON outputs of the requests"
   ]
  },
  {
   "cell_type": "code",
   "execution_count": 104,
   "metadata": {},
   "outputs": [],
   "source": [
    "ind = 1\n",
    "pp = lambda x: print(json.dumps(x.json(), indent=ind))\n",
    "get = lambda x, json={}: pp(req.get(x, json=json)) \n",
    "post = lambda x, json={}: pp(req.post(x, json=json))\n",
    "patch = lambda x, json={}: pp(req.patch(x, json=json))\n",
    "put = lambda x, json={}: pp(req.put(x, json=json))"
   ]
  },
  {
   "cell_type": "markdown",
   "metadata": {},
   "source": [
    "#### Get the Addresses of each node"
   ]
  },
  {
   "cell_type": "code",
   "execution_count": 170,
   "metadata": {},
   "outputs": [
    {
     "name": "stdout",
     "output_type": "stream",
     "text": [
      "{\n",
      " \"our_address\": \"0x00eb7c6b18f8f83aed4b84cbfd58aab184b46752\"\n",
      "}\n"
     ]
    }
   ],
   "source": [
    "get(raiden1 + '/api/1/address')"
   ]
  },
  {
   "cell_type": "code",
   "execution_count": 171,
   "metadata": {},
   "outputs": [
    {
     "name": "stdout",
     "output_type": "stream",
     "text": [
      "{\n",
      " \"our_address\": \"0x0075703bf50aebe6755844c0c9b28cdb8f730933\"\n",
      "}\n"
     ]
    }
   ],
   "source": [
    "get(raiden2 + '/api/1/address')"
   ]
  },
  {
   "cell_type": "markdown",
   "metadata": {},
   "source": [
    "#### Get the channels"
   ]
  },
  {
   "cell_type": "code",
   "execution_count": 85,
   "metadata": {
    "scrolled": false
   },
   "outputs": [
    {
     "name": "stdout",
     "output_type": "stream",
     "text": [
      "[\n",
      " {\n",
      "  \"partner_address\": \"0x0075703bf50aebe6755844c0c9b28cdb8f730933\",\n",
      "  \"balance\": 0,\n",
      "  \"reveal_timeout\": 10,\n",
      "  \"settle_timeout\": 600,\n",
      "  \"state\": \"opened\",\n",
      "  \"channel_address\": \"0x0d8baf6da68965a4dcf19b08ea99ea67e30b6590\",\n",
      "  \"token_address\": \"0x43e523e4e506182fb3adef09e3de76f2f0dab1b4\"\n",
      " },\n",
      " {\n",
      "  \"partner_address\": \"0x0075703bf50aebe6755844c0c9b28cdb8f730933\",\n",
      "  \"balance\": 10,\n",
      "  \"reveal_timeout\": 10,\n",
      "  \"settle_timeout\": 90,\n",
      "  \"state\": \"opened\",\n",
      "  \"channel_address\": \"0x3b11d778235e8658732fd6f72ca2177caa9e0831\",\n",
      "  \"token_address\": \"0x81935c566632f44df25b1545352e20ab81ee0ce2\"\n",
      " },\n",
      " {\n",
      "  \"partner_address\": \"0x0075703bf50aebe6755844c0c9b28cdb8f730933\",\n",
      "  \"balance\": 0,\n",
      "  \"reveal_timeout\": 10,\n",
      "  \"settle_timeout\": 600,\n",
      "  \"state\": \"opened\",\n",
      "  \"channel_address\": \"0xafb45ec10f2ba099fc5c7515689465a252296d73\",\n",
      "  \"token_address\": \"0x0f114a1e9db192502e7856309cc899952b3db1ed\"\n",
      " }\n",
      "]\n"
     ]
    }
   ],
   "source": [
    "get(raiden1 + '/api/1/channels')"
   ]
  },
  {
   "cell_type": "markdown",
   "metadata": {},
   "source": [
    "#### Sending a token through a payment channel"
   ]
  },
  {
   "cell_type": "code",
   "execution_count": 120,
   "metadata": {},
   "outputs": [
    {
     "name": "stdout",
     "output_type": "stream",
     "text": [
      "{\n",
      " \"target_address\": \"0x0075703bf50aebe6755844c0c9b28cdb8f730933\",\n",
      " \"amount\": 2,\n",
      " \"identifier\": 14007094505595368453,\n",
      " \"token_address\": \"0x81935c566632f44df25b1545352e20ab81ee0ce2\",\n",
      " \"initiator_address\": \"0x00eb7c6b18f8f83aed4b84cbfd58aab184b46752\"\n",
      "}\n"
     ]
    }
   ],
   "source": [
    "WeOU_add = '0x81935c566632f44df25b1545352e20ab81ee0ce2'\n",
    "post(raiden1+'/api/1/transfers/'+WeOU_add+'/'+pierre2, json={'amount':2})"
   ]
  },
  {
   "cell_type": "code",
   "execution_count": 159,
   "metadata": {},
   "outputs": [
    {
     "name": "stdout",
     "output_type": "stream",
     "text": [
      "{\n",
      " \"target_address\": \"0x00eb7c6b18f8f83aed4b84cbfd58aab184b46752\",\n",
      " \"amount\": 2,\n",
      " \"identifier\": 15623382889280520122,\n",
      " \"token_address\": \"0x81935c566632f44df25b1545352e20ab81ee0ce2\",\n",
      " \"initiator_address\": \"0x0075703bf50aebe6755844c0c9b28cdb8f730933\"\n",
      "}\n"
     ]
    }
   ],
   "source": [
    "post(raiden2+'/api/1/transfers/'+WeOU_add+'/'+pierre1, json={'amount':2})"
   ]
  },
  {
   "cell_type": "code",
   "execution_count": 94,
   "metadata": {},
   "outputs": [
    {
     "name": "stdout",
     "output_type": "stream",
     "text": [
      "[\n",
      " {\n",
      "  \"partner_address\": \"0x0075703bf50aebe6755844c0c9b28cdb8f730933\",\n",
      "  \"balance\": 0,\n",
      "  \"reveal_timeout\": 10,\n",
      "  \"settle_timeout\": 600,\n",
      "  \"state\": \"opened\",\n",
      "  \"channel_address\": \"0x0d8baf6da68965a4dcf19b08ea99ea67e30b6590\",\n",
      "  \"token_address\": \"0x43e523e4e506182fb3adef09e3de76f2f0dab1b4\"\n",
      " },\n",
      " {\n",
      "  \"partner_address\": \"0x0075703bf50aebe6755844c0c9b28cdb8f730933\",\n",
      "  \"balance\": 6,\n",
      "  \"reveal_timeout\": 10,\n",
      "  \"settle_timeout\": 90,\n",
      "  \"state\": \"opened\",\n",
      "  \"channel_address\": \"0x3b11d778235e8658732fd6f72ca2177caa9e0831\",\n",
      "  \"token_address\": \"0x81935c566632f44df25b1545352e20ab81ee0ce2\"\n",
      " },\n",
      " {\n",
      "  \"partner_address\": \"0x0075703bf50aebe6755844c0c9b28cdb8f730933\",\n",
      "  \"balance\": 0,\n",
      "  \"reveal_timeout\": 10,\n",
      "  \"settle_timeout\": 600,\n",
      "  \"state\": \"opened\",\n",
      "  \"channel_address\": \"0xafb45ec10f2ba099fc5c7515689465a252296d73\",\n",
      "  \"token_address\": \"0x0f114a1e9db192502e7856309cc899952b3db1ed\"\n",
      " }\n",
      "]\n"
     ]
    }
   ],
   "source": [
    "get(raiden1 + '/api/1/channels')"
   ]
  },
  {
   "cell_type": "code",
   "execution_count": 122,
   "metadata": {
    "collapsed": true
   },
   "outputs": [],
   "source": [
    "WeOU_chn = '0x3b11d778235e8658732fd6f72ca2177caa9e0831'"
   ]
  },
  {
   "cell_type": "code",
   "execution_count": 123,
   "metadata": {},
   "outputs": [
    {
     "name": "stdout",
     "output_type": "stream",
     "text": [
      "{\n",
      " \"partner_address\": \"0x0075703bf50aebe6755844c0c9b28cdb8f730933\",\n",
      " \"balance\": 2,\n",
      " \"reveal_timeout\": 10,\n",
      " \"settle_timeout\": 90,\n",
      " \"state\": \"opened\",\n",
      " \"channel_address\": \"0x3b11d778235e8658732fd6f72ca2177caa9e0831\",\n",
      " \"token_address\": \"0x81935c566632f44df25b1545352e20ab81ee0ce2\"\n",
      "}\n"
     ]
    }
   ],
   "source": [
    "get(raiden1 + '/api/1/channels/'+WeOU_chn)"
   ]
  },
  {
   "cell_type": "markdown",
   "metadata": {},
   "source": [
    "#### List the tokens"
   ]
  },
  {
   "cell_type": "code",
   "execution_count": 95,
   "metadata": {},
   "outputs": [
    {
     "name": "stdout",
     "output_type": "stream",
     "text": [
      "[\n",
      " \"0x693ab5dcbdfc8efd30c0fc4ab304296c01edac80\",\n",
      " \"0x4503eedbc91cf8a24009e02e6b98b58fa34f1451\",\n",
      " \"0xe4dfebac2126d8c98d254e1bef3dde5de83669a4\",\n",
      " \"0x5033e0064b1e7f9c2c8f1aff0ad17f2be5373533\",\n",
      " \"0x9e05b78ea853a4b093694645561c4bfc953a6f62\",\n",
      " \"0x43e523e4e506182fb3adef09e3de76f2f0dab1b4\",\n",
      " \"0xbb96a15b03971f1ff62ad519228df919eb88b49f\",\n",
      " \"0xf025f2ddb226684ab66df9fdf3928d053a237dce\",\n",
      " \"0x0d013db85a9b9705dc6ee0f30611367eb1321dd9\",\n",
      " \"0xc9d3d9752b5288e3e5e2ffce1ce180606fd14f27\",\n",
      " \"0xb0336ad0aea94b186359feba35da4f422d9e0830\",\n",
      " \"0x81935c566632f44df25b1545352e20ab81ee0ce2\",\n",
      " \"0x583cbbb8a8443b38abcc0c956bece47340ea1367\",\n",
      " \"0x0d94b0089650635e33c6917da6c44e51863d5b81\",\n",
      " \"0x0f114a1e9db192502e7856309cc899952b3db1ed\",\n",
      " \"0x1989b174eaef2764be8d178feaa897af0c121afd\",\n",
      " \"0x5e8d1232eecdae123d10353c42d087e396dce343\",\n",
      " \"0x3426c4dc06acfc5d80655dbd661e88b2f4cf061e\",\n",
      " \"0xc8c87503ac7a98238ee034fc6429dc960e1fa4e3\",\n",
      " \"0xb8e15e32a693ac872ec5385e749a06770bc95337\"\n",
      "]\n"
     ]
    }
   ],
   "source": [
    "get(raiden1 + '/api/1/tokens')"
   ]
  },
  {
   "cell_type": "markdown",
   "metadata": {},
   "source": [
    "#### Get the partners of a specific token"
   ]
  },
  {
   "cell_type": "code",
   "execution_count": 100,
   "metadata": {
    "scrolled": true
   },
   "outputs": [
    {
     "name": "stdout",
     "output_type": "stream",
     "text": [
      "[\n",
      " {\n",
      "  \"partner_address\": \"0xcbf7cad97e21fabdc4ee39518a71e979e1255d00\",\n",
      "  \"channel\": \"/api/1/channels/0x3892cd9cbf8241810e405e1692250824fc210769\"\n",
      " },\n",
      " {\n",
      "  \"partner_address\": \"0x00eb7c6b18f8f83aed4b84cbfd58aab184b46752\",\n",
      "  \"channel\": \"/api/1/channels/0x3b11d778235e8658732fd6f72ca2177caa9e0831\"\n",
      " },\n",
      " {\n",
      "  \"partner_address\": \"0x0b4ae03434f747d59928b6480b21473fd3ed0b1e\",\n",
      "  \"channel\": \"/api/1/channels/0x8cb56c3b33d7a03ad51854ba95a3e627c27202da\"\n",
      " }\n",
      "]\n"
     ]
    }
   ],
   "source": [
    " get(raiden2 + '/api/1/tokens/0x81935c566632f44df25b1545352e20ab81ee0ce2/partners')"
   ]
  },
  {
   "cell_type": "markdown",
   "metadata": {},
   "source": [
    "#### Add new token to the list"
   ]
  },
  {
   "cell_type": "code",
   "execution_count": 101,
   "metadata": {
    "scrolled": true
   },
   "outputs": [
    {
     "name": "stdout",
     "output_type": "stream",
     "text": [
      "{\n",
      " \"channel_manager_address\": \"0xb832d4370d2406dd82522d363b4efad767737b49\"\n",
      "}\n"
     ]
    }
   ],
   "source": [
    "BET_add = '0x706FFE280B3AB30719212a8B6F4a1B2aC00F0862'\n",
    "put(raiden1+'/api/1/tokens/'+BET_add)"
   ]
  },
  {
   "cell_type": "markdown",
   "metadata": {},
   "source": [
    "#### Open a new channel"
   ]
  },
  {
   "cell_type": "code",
   "execution_count": 105,
   "metadata": {},
   "outputs": [
    {
     "name": "stdout",
     "output_type": "stream",
     "text": [
      "{\n",
      " \"partner_address\": \"0x0075703bf50aebe6755844c0c9b28cdb8f730933\",\n",
      " \"balance\": 100,\n",
      " \"reveal_timeout\": 10,\n",
      " \"settle_timeout\": 100,\n",
      " \"state\": \"opened\",\n",
      " \"channel_address\": \"0xcf312d3743e09ccb7630c185b80d65747479bb6a\",\n",
      " \"token_address\": \"0x706ffe280b3ab30719212a8b6f4a1b2ac00f0862\"\n",
      "}\n"
     ]
    }
   ],
   "source": [
    "payload = {\n",
    "    \"partner_address\": pierre2,\n",
    "    \"token_address\": BET_add,\n",
    "    \"balance\": 100,\n",
    "    \"settle_timeout\": 100\n",
    "}\n",
    "put(raiden1+'/api/1/channels', json=payload)"
   ]
  },
  {
   "cell_type": "code",
   "execution_count": 106,
   "metadata": {
    "collapsed": true
   },
   "outputs": [],
   "source": [
    "BET_chn = '0xcf312d3743e09ccb7630c185b80d65747479bb6a'"
   ]
  },
  {
   "cell_type": "markdown",
   "metadata": {},
   "source": [
    "Now let's send some BETs to pierre2"
   ]
  },
  {
   "cell_type": "code",
   "execution_count": 111,
   "metadata": {},
   "outputs": [
    {
     "name": "stdout",
     "output_type": "stream",
     "text": [
      "{\n",
      " \"target_address\": \"0x0075703bf50aebe6755844c0c9b28cdb8f730933\",\n",
      " \"amount\": 10,\n",
      " \"identifier\": 12512444386014554196,\n",
      " \"token_address\": \"0x706ffe280b3ab30719212a8b6f4a1b2ac00f0862\",\n",
      " \"initiator_address\": \"0x00eb7c6b18f8f83aed4b84cbfd58aab184b46752\"\n",
      "}\n"
     ]
    }
   ],
   "source": [
    "post(raiden1+'/api/1/transfers/'+BET_add+'/'+pierre2, json={'amount':10})"
   ]
  },
  {
   "cell_type": "markdown",
   "metadata": {},
   "source": [
    "Let's check how much pierre2 has now"
   ]
  },
  {
   "cell_type": "code",
   "execution_count": 115,
   "metadata": {
    "scrolled": true
   },
   "outputs": [
    {
     "name": "stdout",
     "output_type": "stream",
     "text": [
      "{\n",
      " \"partner_address\": \"0x00eb7c6b18f8f83aed4b84cbfd58aab184b46752\",\n",
      " \"balance\": 50,\n",
      " \"reveal_timeout\": 10,\n",
      " \"settle_timeout\": 100,\n",
      " \"state\": \"opened\",\n",
      " \"channel_address\": \"0xcf312d3743e09ccb7630c185b80d65747479bb6a\",\n",
      " \"token_address\": \"0x706ffe280b3ab30719212a8b6f4a1b2ac00f0862\"\n",
      "}\n"
     ]
    }
   ],
   "source": [
    "get(raiden2 + '/api/1/channels/' + BET_chn)"
   ]
  },
  {
   "cell_type": "markdown",
   "metadata": {},
   "source": [
    "Let's send some back to pierre1"
   ]
  },
  {
   "cell_type": "code",
   "execution_count": 113,
   "metadata": {
    "scrolled": true
   },
   "outputs": [
    {
     "name": "stdout",
     "output_type": "stream",
     "text": [
      "{\n",
      " \"target_address\": \"0x00eb7c6b18f8f83aed4b84cbfd58aab184b46752\",\n",
      " \"amount\": 10,\n",
      " \"identifier\": 3431574496914345870,\n",
      " \"token_address\": \"0x706ffe280b3ab30719212a8b6f4a1b2ac00f0862\",\n",
      " \"initiator_address\": \"0x0075703bf50aebe6755844c0c9b28cdb8f730933\"\n",
      "}\n"
     ]
    }
   ],
   "source": [
    "post(raiden2+'/api/1/transfers/'+BET_add+'/'+pierre1, json={'amount':10})"
   ]
  },
  {
   "cell_type": "markdown",
   "metadata": {},
   "source": [
    "#### Let's put more BET funds"
   ]
  },
  {
   "cell_type": "code",
   "execution_count": 131,
   "metadata": {
    "scrolled": false
   },
   "outputs": [
    {
     "name": "stdout",
     "output_type": "stream",
     "text": [
      "{\n",
      " \"partner_address\": \"0x0075703bf50aebe6755844c0c9b28cdb8f730933\",\n",
      " \"balance\": 1050,\n",
      " \"reveal_timeout\": 10,\n",
      " \"settle_timeout\": 100,\n",
      " \"state\": \"opened\",\n",
      " \"channel_address\": \"0xcf312d3743e09ccb7630c185b80d65747479bb6a\",\n",
      " \"token_address\": \"0x706ffe280b3ab30719212a8b6f4a1b2ac00f0862\"\n",
      "}\n"
     ]
    }
   ],
   "source": [
    "patch(raiden1 + '/api/1/channels/' + BET_chn, json={'balance':1000})"
   ]
  },
  {
   "cell_type": "code",
   "execution_count": 146,
   "metadata": {},
   "outputs": [
    {
     "name": "stdout",
     "output_type": "stream",
     "text": [
      "{\n",
      " \"partner_address\": \"0x0075703bf50aebe6755844c0c9b28cdb8f730933\",\n",
      " \"balance\": 1050,\n",
      " \"reveal_timeout\": 10,\n",
      " \"settle_timeout\": 100,\n",
      " \"state\": \"opened\",\n",
      " \"channel_address\": \"0xcf312d3743e09ccb7630c185b80d65747479bb6a\",\n",
      " \"token_address\": \"0x706ffe280b3ab30719212a8b6f4a1b2ac00f0862\"\n",
      "}\n"
     ]
    }
   ],
   "source": [
    "get(raiden1 + '/api/1/channels/' + BET_chn)"
   ]
  },
  {
   "cell_type": "markdown",
   "metadata": {},
   "source": [
    "### Lets close the channel"
   ]
  },
  {
   "cell_type": "code",
   "execution_count": 142,
   "metadata": {},
   "outputs": [
    {
     "name": "stdout",
     "output_type": "stream",
     "text": [
      "{\n",
      " \"partner_address\": \"0x0075703bf50aebe6755844c0c9b28cdb8f730933\",\n",
      " \"balance\": 1050,\n",
      " \"reveal_timeout\": 10,\n",
      " \"settle_timeout\": 100,\n",
      " \"state\": \"opened\",\n",
      " \"channel_address\": \"0xcf312d3743e09ccb7630c185b80d65747479bb6a\",\n",
      " \"token_address\": \"0x706ffe280b3ab30719212a8b6f4a1b2ac00f0862\"\n",
      "}\n"
     ]
    }
   ],
   "source": [
    "patch(raiden1 + '/api/1/channels/' + BET_chn, json={\"state\":\"closed\"})"
   ]
  },
  {
   "cell_type": "code",
   "execution_count": 141,
   "metadata": {},
   "outputs": [
    {
     "name": "stdout",
     "output_type": "stream",
     "text": [
      "{\n",
      " \"partner_address\": \"0x00eb7c6b18f8f83aed4b84cbfd58aab184b46752\",\n",
      " \"balance\": 50,\n",
      " \"reveal_timeout\": 10,\n",
      " \"settle_timeout\": 100,\n",
      " \"state\": \"opened\",\n",
      " \"channel_address\": \"0xcf312d3743e09ccb7630c185b80d65747479bb6a\",\n",
      " \"token_address\": \"0x706ffe280b3ab30719212a8b6f4a1b2ac00f0862\"\n",
      "}\n"
     ]
    }
   ],
   "source": [
    "patch(raiden2 + '/api/1/channels/' + BET_chn, json={\"state\":\"closed\"})"
   ]
  },
  {
   "cell_type": "code",
   "execution_count": 143,
   "metadata": {},
   "outputs": [
    {
     "name": "stdout",
     "output_type": "stream",
     "text": [
      "{\n",
      " \"partner_address\": \"0x0075703bf50aebe6755844c0c9b28cdb8f730933\",\n",
      " \"balance\": 1050,\n",
      " \"reveal_timeout\": 10,\n",
      " \"settle_timeout\": 100,\n",
      " \"state\": \"opened\",\n",
      " \"channel_address\": \"0xcf312d3743e09ccb7630c185b80d65747479bb6a\",\n",
      " \"token_address\": \"0x706ffe280b3ab30719212a8b6f4a1b2ac00f0862\"\n",
      "}\n"
     ]
    }
   ],
   "source": [
    "get(raiden1 + '/api/1/channels/' + BET_chn)"
   ]
  },
  {
   "cell_type": "markdown",
   "metadata": {},
   "source": [
    "Mehhh doesn't seem to work at all"
   ]
  },
  {
   "cell_type": "markdown",
   "metadata": {},
   "source": [
    "### Lets settle the channel"
   ]
  },
  {
   "cell_type": "code",
   "execution_count": 144,
   "metadata": {},
   "outputs": [
    {
     "name": "stdout",
     "output_type": "stream",
     "text": [
      "{\n",
      " \"errors\": \"Attempted to settle a channel at its opened state\"\n",
      "}\n"
     ]
    }
   ],
   "source": [
    "patch(raiden1 + '/api/1/channels/' + BET_chn, json={\"state\":\"settled\"})"
   ]
  },
  {
   "cell_type": "markdown",
   "metadata": {},
   "source": [
    "Can't settle if it's not closed already"
   ]
  },
  {
   "cell_type": "markdown",
   "metadata": {},
   "source": [
    "### Let's look at some events"
   ]
  },
  {
   "cell_type": "code",
   "execution_count": 125,
   "metadata": {
    "scrolled": false
   },
   "outputs": [
    {
     "name": "stdout",
     "output_type": "stream",
     "text": [
      "[\n",
      " {\n",
      "  \"participant1\": \"00eb7c6b18f8f83aed4b84cbfd58aab184b46752\",\n",
      "  \"block_number\": 2090936,\n",
      "  \"netting_channel\": \"cf312d3743e09ccb7630c185b80d65747479bb6a\",\n",
      "  \"participant2\": \"0075703bf50aebe6755844c0c9b28cdb8f730933\",\n",
      "  \"event_type\": \"ChannelNew\",\n",
      "  \"settle_timeout\": 100\n",
      " }\n",
      "]\n"
     ]
    }
   ],
   "source": [
    "get(raiden1 + '/api/1/events/tokens/' + BET_add)"
   ]
  },
  {
   "cell_type": "code",
   "execution_count": 126,
   "metadata": {
    "scrolled": true
   },
   "outputs": [
    {
     "name": "stdout",
     "output_type": "stream",
     "text": [
      "[\n",
      " {\n",
      "  \"block_number\": 2090940,\n",
      "  \"participant\": \"00eb7c6b18f8f83aed4b84cbfd58aab184b46752\",\n",
      "  \"event_type\": \"ChannelNewBalance\",\n",
      "  \"balance\": 100,\n",
      "  \"token_address\": \"706ffe280b3ab30719212a8b6f4a1b2ac00f0862\"\n",
      " },\n",
      " {\n",
      "  \"block_number\": 2089071,\n",
      "  \"target\": \"0075703bf50aebe6755844c0c9b28cdb8f730933\",\n",
      "  \"amount\": 2,\n",
      "  \"identifier\": 1510932905657,\n",
      "  \"event_type\": \"EventTransferSentSuccess\"\n",
      " },\n",
      " {\n",
      "  \"block_number\": 2089075,\n",
      "  \"initiator\": \"0075703bf50aebe6755844c0c9b28cdb8f730933\",\n",
      "  \"event_type\": \"EventTransferReceivedSuccess\",\n",
      "  \"amount\": 5,\n",
      "  \"identifier\": 1510932919976\n",
      " },\n",
      " {\n",
      "  \"block_number\": 2089237,\n",
      "  \"target\": \"0075703bf50aebe6755844c0c9b28cdb8f730933\",\n",
      "  \"amount\": 4,\n",
      "  \"identifier\": 1510934555794,\n",
      "  \"event_type\": \"EventTransferSentSuccess\"\n",
      " },\n",
      " {\n",
      "  \"block_number\": 2089239,\n",
      "  \"initiator\": \"0075703bf50aebe6755844c0c9b28cdb8f730933\",\n",
      "  \"event_type\": \"EventTransferReceivedSuccess\",\n",
      "  \"amount\": 10,\n",
      "  \"identifier\": 1510934575895\n",
      " },\n",
      " {\n",
      "  \"block_number\": 2089308,\n",
      "  \"initiator\": \"0075703bf50aebe6755844c0c9b28cdb8f730933\",\n",
      "  \"event_type\": \"EventTransferReceivedSuccess\",\n",
      "  \"amount\": 3,\n",
      "  \"identifier\": 1510935089825\n",
      " },\n",
      " {\n",
      "  \"block_number\": 2089462,\n",
      "  \"target\": \"0075703bf50aebe6755844c0c9b28cdb8f730933\",\n",
      "  \"amount\": 2,\n",
      "  \"identifier\": 11599366049839682777,\n",
      "  \"event_type\": \"EventTransferSentSuccess\"\n",
      " },\n",
      " {\n",
      "  \"block_number\": 2089468,\n",
      "  \"target\": \"0075703bf50aebe6755844c0c9b28cdb8f730933\",\n",
      "  \"amount\": 2,\n",
      "  \"identifier\": 17085522117603594998,\n",
      "  \"event_type\": \"EventTransferSentSuccess\"\n",
      " },\n",
      " {\n",
      "  \"block_number\": 2090839,\n",
      "  \"target\": \"0075703bf50aebe6755844c0c9b28cdb8f730933\",\n",
      "  \"amount\": 2,\n",
      "  \"identifier\": 9771271522753286129,\n",
      "  \"event_type\": \"EventTransferSentSuccess\"\n",
      " },\n",
      " {\n",
      "  \"block_number\": 2090839,\n",
      "  \"initiator\": \"0075703bf50aebe6755844c0c9b28cdb8f730933\",\n",
      "  \"event_type\": \"EventTransferReceivedSuccess\",\n",
      "  \"amount\": 2,\n",
      "  \"identifier\": 8655501647554862244\n",
      " },\n",
      " {\n",
      "  \"block_number\": 2090840,\n",
      "  \"initiator\": \"0075703bf50aebe6755844c0c9b28cdb8f730933\",\n",
      "  \"event_type\": \"EventTransferReceivedSuccess\",\n",
      "  \"amount\": 2,\n",
      "  \"identifier\": 4051556364963046238\n",
      " },\n",
      " {\n",
      "  \"block_number\": 2090846,\n",
      "  \"target\": \"0075703bf50aebe6755844c0c9b28cdb8f730933\",\n",
      "  \"amount\": 2,\n",
      "  \"identifier\": 15808317539482420212,\n",
      "  \"event_type\": \"EventTransferSentSuccess\"\n",
      " },\n",
      " {\n",
      "  \"block_number\": 2090849,\n",
      "  \"target\": \"0075703bf50aebe6755844c0c9b28cdb8f730933\",\n",
      "  \"amount\": 2,\n",
      "  \"identifier\": 6533463613342733557,\n",
      "  \"event_type\": \"EventTransferSentSuccess\"\n",
      " },\n",
      " {\n",
      "  \"block_number\": 2090853,\n",
      "  \"target\": \"0075703bf50aebe6755844c0c9b28cdb8f730933\",\n",
      "  \"amount\": 2,\n",
      "  \"identifier\": 13130848444448174563,\n",
      "  \"event_type\": \"EventTransferSentSuccess\"\n",
      " },\n",
      " {\n",
      "  \"block_number\": 2090945,\n",
      "  \"target\": \"0075703bf50aebe6755844c0c9b28cdb8f730933\",\n",
      "  \"amount\": 100,\n",
      "  \"identifier\": 3456103148163452042,\n",
      "  \"event_type\": \"EventTransferSentSuccess\"\n",
      " },\n",
      " {\n",
      "  \"block_number\": 2090956,\n",
      "  \"initiator\": \"0075703bf50aebe6755844c0c9b28cdb8f730933\",\n",
      "  \"event_type\": \"EventTransferReceivedSuccess\",\n",
      "  \"amount\": 50,\n",
      "  \"identifier\": 1065139466100871340\n",
      " },\n",
      " {\n",
      "  \"block_number\": 2090956,\n",
      "  \"target\": \"0075703bf50aebe6755844c0c9b28cdb8f730933\",\n",
      "  \"amount\": 10,\n",
      "  \"identifier\": 12512444386014554196,\n",
      "  \"event_type\": \"EventTransferSentSuccess\"\n",
      " },\n",
      " {\n",
      "  \"block_number\": 2090956,\n",
      "  \"initiator\": \"0075703bf50aebe6755844c0c9b28cdb8f730933\",\n",
      "  \"event_type\": \"EventTransferReceivedSuccess\",\n",
      "  \"amount\": 10,\n",
      "  \"identifier\": 3431574496914345870\n",
      " },\n",
      " {\n",
      "  \"block_number\": 2090974,\n",
      "  \"target\": \"0075703bf50aebe6755844c0c9b28cdb8f730933\",\n",
      "  \"amount\": 2,\n",
      "  \"identifier\": 13301531553482997377,\n",
      "  \"event_type\": \"EventTransferSentSuccess\"\n",
      " },\n",
      " {\n",
      "  \"block_number\": 2090979,\n",
      "  \"target\": \"0075703bf50aebe6755844c0c9b28cdb8f730933\",\n",
      "  \"amount\": 2,\n",
      "  \"identifier\": 14007094505595368453,\n",
      "  \"event_type\": \"EventTransferSentSuccess\"\n",
      " }\n",
      "]\n"
     ]
    }
   ],
   "source": [
    "get(raiden1 + '/api/1/events/channels/' + BET_chn)"
   ]
  },
  {
   "cell_type": "markdown",
   "metadata": {},
   "source": [
    "### Token Swaps"
   ]
  },
  {
   "cell_type": "markdown",
   "metadata": {},
   "source": [
    "Let's swap some BETs with some WEOU tokens"
   ]
  },
  {
   "cell_type": "code",
   "execution_count": 153,
   "metadata": {
    "collapsed": true
   },
   "outputs": [],
   "source": [
    "def balance(add, chn):\n",
    "    return req.get(add + '/api/1/channels/'+chn).json()['balance']"
   ]
  },
  {
   "cell_type": "code",
   "execution_count": 164,
   "metadata": {},
   "outputs": [
    {
     "name": "stdout",
     "output_type": "stream",
     "text": [
      "Pierre1: BET= 1050 \t WeOU= 4\n",
      "Pierre2: BET= 50 \t WeOU= 19\n"
     ]
    }
   ],
   "source": [
    "print('Pierre1: BET=',balance(raiden1, BET_chn), '\\t WeOU=', balance(raiden1, WeOU_chn))\n",
    "print('Pierre2: BET=',balance(raiden2, BET_chn), '\\t WeOU=', balance(raiden2, WeOU_chn))"
   ]
  },
  {
   "cell_type": "code",
   "execution_count": 165,
   "metadata": {},
   "outputs": [
    {
     "name": "stdout",
     "output_type": "stream",
     "text": [
      "{}\n"
     ]
    }
   ],
   "source": [
    "payload = {\n",
    "    \"role\": \"maker\",\n",
    "    \"sending_amount\": 2,\n",
    "    \"sending_token\": WeOU_add,\n",
    "    \"receiving_amount\": 5,\n",
    "    \"receiving_token\": BET_add\n",
    "}\n",
    "\n",
    "put(raiden1 + '/api/1/token_swaps/' + pierre2 + '/1337', json=payload)"
   ]
  },
  {
   "cell_type": "code",
   "execution_count": 166,
   "metadata": {},
   "outputs": [
    {
     "name": "stdout",
     "output_type": "stream",
     "text": [
      "{}\n"
     ]
    }
   ],
   "source": [
    "payload = {\n",
    "    \"role\": \"taker\",\n",
    "    \"sending_amount\": 5,\n",
    "    \"sending_token\": BET_add,    \n",
    "    \"receiving_amount\": 2,\n",
    "    \"receiving_token\": WeOU_add,\n",
    "}\n",
    "put(raiden2 + '/api/1/token_swaps/' + pierre1 + '/1337', json=payload)"
   ]
  },
  {
   "cell_type": "code",
   "execution_count": 167,
   "metadata": {},
   "outputs": [
    {
     "name": "stdout",
     "output_type": "stream",
     "text": [
      "Pierre1: BET= 1055 \t WeOU= 2\n",
      "Pierre2: BET= 45 \t WeOU= 21\n"
     ]
    }
   ],
   "source": [
    "print('Pierre1: BET=',balance(raiden1, BET_chn), '\\t WeOU=', balance(raiden1, WeOU_chn))\n",
    "print('Pierre2: BET=',balance(raiden2, BET_chn), '\\t WeOU=', balance(raiden2, WeOU_chn))"
   ]
  }
 ],
 "metadata": {
  "kernelspec": {
   "display_name": "Python 3",
   "language": "python",
   "name": "python3"
  },
  "language_info": {
   "codemirror_mode": {
    "name": "ipython",
    "version": 3
   },
   "file_extension": ".py",
   "mimetype": "text/x-python",
   "name": "python",
   "nbconvert_exporter": "python",
   "pygments_lexer": "ipython3",
   "version": "3.6.2"
  }
 },
 "nbformat": 4,
 "nbformat_minor": 2
}
