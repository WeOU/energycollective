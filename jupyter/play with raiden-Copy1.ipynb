{
 "cells": [
  {
   "cell_type": "code",
   "execution_count": 18,
   "metadata": {
    "collapsed": true
   },
   "outputs": [],
   "source": [
    "import requests as req\n",
    "import json as Json"
   ]
  },
  {
   "cell_type": "code",
   "execution_count": 2,
   "metadata": {
    "collapsed": true
   },
   "outputs": [],
   "source": [
    "raiden1='http://localhost:5002'\n",
    "raiden2='http://localhost:5003'"
   ]
  },
  {
   "cell_type": "code",
   "execution_count": 3,
   "metadata": {
    "collapsed": true
   },
   "outputs": [],
   "source": [
    "troels1 = '0x0B85D3E6E064D10A173A21E5654DC9E2920DF2D8' #- Troels Primary\n",
    "troels2 = '0x0B4AE03434F747D59928B6480B21473FD3ED0B1E' #- Troels Secondary\n",
    "rp_troels = '0xcbf7cad97e21fabdc4ee39518a71e979e1255d00' #- Troels Raspberry\n",
    "pierre1= '0x00eb7c6b18f8f83aed4b84cbfd58aab184b46752' #- Pierre1 (Wallet on raiden1)\n",
    "pierre2= '0x0075703Bf50AeBe6755844C0c9B28CDB8F730933' #- Pierre2 (Wallet on raiden2)"
   ]
  },
  {
   "cell_type": "markdown",
   "metadata": {},
   "source": [
    "Just some convenience functions to pretty-print the JSON outputs of the requests"
   ]
  },
  {
   "cell_type": "code",
   "execution_count": 19,
   "metadata": {
    "collapsed": true
   },
   "outputs": [],
   "source": [
    "ind = 1\n",
    "pp = lambda string, q, json, x: print(string + ' ' + q + ' with payload '+ Json.dumps(json) + '\\n' + Json.dumps(x.json(), indent=ind))\n",
    "get = lambda x, json={}: pp('GET', x, json, req.get(x, json=json)) \n",
    "post = lambda x, json={}: pp('GET', x, json, req.post(x, json=json))\n",
    "patch = lambda x, json={}: pp('GET', x, json, req.patch(x, json=json))\n",
    "put = lambda x, json={}: pp('GET', x, json, req.put(x, json=json))"
   ]
  },
  {
   "cell_type": "markdown",
   "metadata": {},
   "source": [
    "#### Get the Addresses of each node"
   ]
  },
  {
   "cell_type": "code",
   "execution_count": 20,
   "metadata": {},
   "outputs": [
    {
     "name": "stdout",
     "output_type": "stream",
     "text": [
      "GET http://localhost:5002/api/1/address with payload {}\n",
      "{\n",
      " \"our_address\": \"0x00eb7c6b18f8f83aed4b84cbfd58aab184b46752\"\n",
      "}\n"
     ]
    }
   ],
   "source": [
    "get(raiden1 + '/api/1/address')"
   ]
  },
  {
   "cell_type": "code",
   "execution_count": 21,
   "metadata": {},
   "outputs": [
    {
     "name": "stdout",
     "output_type": "stream",
     "text": [
      "GET http://localhost:5003/api/1/address with payload {}\n",
      "{\n",
      " \"our_address\": \"0x0075703bf50aebe6755844c0c9b28cdb8f730933\"\n",
      "}\n"
     ]
    }
   ],
   "source": [
    "get(raiden2 + '/api/1/address')"
   ]
  },
  {
   "cell_type": "markdown",
   "metadata": {},
   "source": [
    "#### Get the channels"
   ]
  },
  {
   "cell_type": "code",
   "execution_count": 22,
   "metadata": {
    "scrolled": false
   },
   "outputs": [
    {
     "name": "stdout",
     "output_type": "stream",
     "text": [
      "GET http://localhost:5002/api/1/channels with payload {}\n",
      "[\n",
      " {\n",
      "  \"partner_address\": \"0x0075703bf50aebe6755844c0c9b28cdb8f730933\",\n",
      "  \"balance\": 0,\n",
      "  \"reveal_timeout\": 20,\n",
      "  \"settle_timeout\": 600,\n",
      "  \"state\": \"opened\",\n",
      "  \"channel_address\": \"0x0d8baf6da68965a4dcf19b08ea99ea67e30b6590\",\n",
      "  \"token_address\": \"0x43e523e4e506182fb3adef09e3de76f2f0dab1b4\"\n",
      " },\n",
      " {\n",
      "  \"partner_address\": \"0x0075703bf50aebe6755844c0c9b28cdb8f730933\",\n",
      "  \"balance\": 1100,\n",
      "  \"reveal_timeout\": 20,\n",
      "  \"settle_timeout\": 100,\n",
      "  \"state\": \"opened\",\n",
      "  \"channel_address\": \"0xcf312d3743e09ccb7630c185b80d65747479bb6a\",\n",
      "  \"token_address\": \"0x706ffe280b3ab30719212a8b6f4a1b2ac00f0862\"\n",
      " },\n",
      " {\n",
      "  \"partner_address\": \"0x0075703bf50aebe6755844c0c9b28cdb8f730933\",\n",
      "  \"balance\": 8,\n",
      "  \"reveal_timeout\": 20,\n",
      "  \"settle_timeout\": 90,\n",
      "  \"state\": \"opened\",\n",
      "  \"channel_address\": \"0x3b11d778235e8658732fd6f72ca2177caa9e0831\",\n",
      "  \"token_address\": \"0x81935c566632f44df25b1545352e20ab81ee0ce2\"\n",
      " },\n",
      " {\n",
      "  \"partner_address\": \"0x0075703bf50aebe6755844c0c9b28cdb8f730933\",\n",
      "  \"balance\": 0,\n",
      "  \"reveal_timeout\": 20,\n",
      "  \"settle_timeout\": 600,\n",
      "  \"state\": \"opened\",\n",
      "  \"channel_address\": \"0xafb45ec10f2ba099fc5c7515689465a252296d73\",\n",
      "  \"token_address\": \"0x0f114a1e9db192502e7856309cc899952b3db1ed\"\n",
      " }\n",
      "]\n"
     ]
    }
   ],
   "source": [
    "get(raiden1 + '/api/1/channels')"
   ]
  },
  {
   "cell_type": "markdown",
   "metadata": {},
   "source": [
    "#### Sending a token through a payment channel"
   ]
  },
  {
   "cell_type": "code",
   "execution_count": 23,
   "metadata": {},
   "outputs": [
    {
     "name": "stdout",
     "output_type": "stream",
     "text": [
      "GET http://localhost:5002/api/1/transfers/0x81935c566632f44df25b1545352e20ab81ee0ce2/0x0075703Bf50AeBe6755844C0c9B28CDB8F730933 with payload {\"amount\": 2}\n",
      "{\n",
      " \"target_address\": \"0x0075703bf50aebe6755844c0c9b28cdb8f730933\",\n",
      " \"amount\": 2,\n",
      " \"identifier\": 18366563024333000575,\n",
      " \"token_address\": \"0x81935c566632f44df25b1545352e20ab81ee0ce2\",\n",
      " \"initiator_address\": \"0x00eb7c6b18f8f83aed4b84cbfd58aab184b46752\"\n",
      "}\n"
     ]
    }
   ],
   "source": [
    "WeOU_add = '0x81935c566632f44df25b1545352e20ab81ee0ce2'\n",
    "post(raiden1+'/api/1/transfers/'+WeOU_add+'/'+pierre2, json={'amount':2})"
   ]
  },
  {
   "cell_type": "code",
   "execution_count": 24,
   "metadata": {},
   "outputs": [
    {
     "name": "stdout",
     "output_type": "stream",
     "text": [
      "GET http://localhost:5003/api/1/transfers/0x81935c566632f44df25b1545352e20ab81ee0ce2/0x00eb7c6b18f8f83aed4b84cbfd58aab184b46752 with payload {\"amount\": 2}\n",
      "{\n",
      " \"target_address\": \"0x00eb7c6b18f8f83aed4b84cbfd58aab184b46752\",\n",
      " \"amount\": 2,\n",
      " \"identifier\": 17221706272347606705,\n",
      " \"token_address\": \"0x81935c566632f44df25b1545352e20ab81ee0ce2\",\n",
      " \"initiator_address\": \"0x0075703bf50aebe6755844c0c9b28cdb8f730933\"\n",
      "}\n"
     ]
    }
   ],
   "source": [
    "post(raiden2+'/api/1/transfers/'+WeOU_add+'/'+pierre1, json={'amount':2})"
   ]
  },
  {
   "cell_type": "code",
   "execution_count": 25,
   "metadata": {},
   "outputs": [
    {
     "name": "stdout",
     "output_type": "stream",
     "text": [
      "GET http://localhost:5002/api/1/channels with payload {}\n",
      "[\n",
      " {\n",
      "  \"partner_address\": \"0x0075703bf50aebe6755844c0c9b28cdb8f730933\",\n",
      "  \"balance\": 0,\n",
      "  \"reveal_timeout\": 20,\n",
      "  \"settle_timeout\": 600,\n",
      "  \"state\": \"opened\",\n",
      "  \"channel_address\": \"0x0d8baf6da68965a4dcf19b08ea99ea67e30b6590\",\n",
      "  \"token_address\": \"0x43e523e4e506182fb3adef09e3de76f2f0dab1b4\"\n",
      " },\n",
      " {\n",
      "  \"partner_address\": \"0x0075703bf50aebe6755844c0c9b28cdb8f730933\",\n",
      "  \"balance\": 1100,\n",
      "  \"reveal_timeout\": 20,\n",
      "  \"settle_timeout\": 100,\n",
      "  \"state\": \"opened\",\n",
      "  \"channel_address\": \"0xcf312d3743e09ccb7630c185b80d65747479bb6a\",\n",
      "  \"token_address\": \"0x706ffe280b3ab30719212a8b6f4a1b2ac00f0862\"\n",
      " },\n",
      " {\n",
      "  \"partner_address\": \"0x0075703bf50aebe6755844c0c9b28cdb8f730933\",\n",
      "  \"balance\": 8,\n",
      "  \"reveal_timeout\": 20,\n",
      "  \"settle_timeout\": 90,\n",
      "  \"state\": \"opened\",\n",
      "  \"channel_address\": \"0x3b11d778235e8658732fd6f72ca2177caa9e0831\",\n",
      "  \"token_address\": \"0x81935c566632f44df25b1545352e20ab81ee0ce2\"\n",
      " },\n",
      " {\n",
      "  \"partner_address\": \"0x0075703bf50aebe6755844c0c9b28cdb8f730933\",\n",
      "  \"balance\": 0,\n",
      "  \"reveal_timeout\": 20,\n",
      "  \"settle_timeout\": 600,\n",
      "  \"state\": \"opened\",\n",
      "  \"channel_address\": \"0xafb45ec10f2ba099fc5c7515689465a252296d73\",\n",
      "  \"token_address\": \"0x0f114a1e9db192502e7856309cc899952b3db1ed\"\n",
      " }\n",
      "]\n"
     ]
    }
   ],
   "source": [
    "get(raiden1 + '/api/1/channels')"
   ]
  },
  {
   "cell_type": "code",
   "execution_count": 26,
   "metadata": {
    "collapsed": true
   },
   "outputs": [],
   "source": [
    "WeOU_chn = '0x3b11d778235e8658732fd6f72ca2177caa9e0831'"
   ]
  },
  {
   "cell_type": "code",
   "execution_count": 27,
   "metadata": {},
   "outputs": [
    {
     "name": "stdout",
     "output_type": "stream",
     "text": [
      "GET http://localhost:5002/api/1/channels/0x3b11d778235e8658732fd6f72ca2177caa9e0831 with payload {}\n",
      "{\n",
      " \"partner_address\": \"0x0075703bf50aebe6755844c0c9b28cdb8f730933\",\n",
      " \"balance\": 8,\n",
      " \"reveal_timeout\": 20,\n",
      " \"settle_timeout\": 90,\n",
      " \"state\": \"opened\",\n",
      " \"channel_address\": \"0x3b11d778235e8658732fd6f72ca2177caa9e0831\",\n",
      " \"token_address\": \"0x81935c566632f44df25b1545352e20ab81ee0ce2\"\n",
      "}\n"
     ]
    }
   ],
   "source": [
    "get(raiden1 + '/api/1/channels/'+WeOU_chn)"
   ]
  },
  {
   "cell_type": "markdown",
   "metadata": {},
   "source": [
    "#### List the tokens"
   ]
  },
  {
   "cell_type": "code",
   "execution_count": 28,
   "metadata": {},
   "outputs": [
    {
     "name": "stdout",
     "output_type": "stream",
     "text": [
      "GET http://localhost:5002/api/1/tokens with payload {}\n",
      "[\n",
      " \"0x693ab5dcbdfc8efd30c0fc4ab304296c01edac80\",\n",
      " \"0x4503eedbc91cf8a24009e02e6b98b58fa34f1451\",\n",
      " \"0xe4dfebac2126d8c98d254e1bef3dde5de83669a4\",\n",
      " \"0x5033e0064b1e7f9c2c8f1aff0ad17f2be5373533\",\n",
      " \"0x9e05b78ea853a4b093694645561c4bfc953a6f62\",\n",
      " \"0x43e523e4e506182fb3adef09e3de76f2f0dab1b4\",\n",
      " \"0xbb96a15b03971f1ff62ad519228df919eb88b49f\",\n",
      " \"0xf025f2ddb226684ab66df9fdf3928d053a237dce\",\n",
      " \"0x0d013db85a9b9705dc6ee0f30611367eb1321dd9\",\n",
      " \"0x706ffe280b3ab30719212a8b6f4a1b2ac00f0862\",\n",
      " \"0xc9d3d9752b5288e3e5e2ffce1ce180606fd14f27\",\n",
      " \"0xb0336ad0aea94b186359feba35da4f422d9e0830\",\n",
      " \"0x81935c566632f44df25b1545352e20ab81ee0ce2\",\n",
      " \"0x583cbbb8a8443b38abcc0c956bece47340ea1367\",\n",
      " \"0x0d94b0089650635e33c6917da6c44e51863d5b81\",\n",
      " \"0x0f114a1e9db192502e7856309cc899952b3db1ed\",\n",
      " \"0x1989b174eaef2764be8d178feaa897af0c121afd\",\n",
      " \"0x5e8d1232eecdae123d10353c42d087e396dce343\",\n",
      " \"0x3426c4dc06acfc5d80655dbd661e88b2f4cf061e\",\n",
      " \"0xc8c87503ac7a98238ee034fc6429dc960e1fa4e3\",\n",
      " \"0xb8e15e32a693ac872ec5385e749a06770bc95337\"\n",
      "]\n"
     ]
    }
   ],
   "source": [
    "get(raiden1 + '/api/1/tokens')"
   ]
  },
  {
   "cell_type": "markdown",
   "metadata": {},
   "source": [
    "#### Get the partners of a specific token"
   ]
  },
  {
   "cell_type": "code",
   "execution_count": 29,
   "metadata": {
    "scrolled": true
   },
   "outputs": [
    {
     "name": "stdout",
     "output_type": "stream",
     "text": [
      "GET http://localhost:5003/api/1/tokens/0x81935c566632f44df25b1545352e20ab81ee0ce2/partners with payload {}\n",
      "[\n",
      " {\n",
      "  \"partner_address\": \"0xcbf7cad97e21fabdc4ee39518a71e979e1255d00\",\n",
      "  \"channel\": \"/api/1/channels/0x3892cd9cbf8241810e405e1692250824fc210769\"\n",
      " },\n",
      " {\n",
      "  \"partner_address\": \"0x00eb7c6b18f8f83aed4b84cbfd58aab184b46752\",\n",
      "  \"channel\": \"/api/1/channels/0x3b11d778235e8658732fd6f72ca2177caa9e0831\"\n",
      " },\n",
      " {\n",
      "  \"partner_address\": \"0x0b4ae03434f747d59928b6480b21473fd3ed0b1e\",\n",
      "  \"channel\": \"/api/1/channels/0x8cb56c3b33d7a03ad51854ba95a3e627c27202da\"\n",
      " }\n",
      "]\n"
     ]
    }
   ],
   "source": [
    " get(raiden2 + '/api/1/tokens/0x81935c566632f44df25b1545352e20ab81ee0ce2/partners')"
   ]
  },
  {
   "cell_type": "markdown",
   "metadata": {},
   "source": [
    "#### Add new token to the list"
   ]
  },
  {
   "cell_type": "code",
   "execution_count": 30,
   "metadata": {
    "scrolled": true
   },
   "outputs": [
    {
     "name": "stdout",
     "output_type": "stream",
     "text": [
      "GET http://localhost:5002/api/1/tokens/0x706FFE280B3AB30719212a8B6F4a1B2aC00F0862 with payload {}\n",
      "{\n",
      " \"errors\": \"Token is already registered\"\n",
      "}\n"
     ]
    }
   ],
   "source": [
    "BET_add = '0x706FFE280B3AB30719212a8B6F4a1B2aC00F0862'\n",
    "put(raiden1+'/api/1/tokens/'+BET_add)"
   ]
  },
  {
   "cell_type": "markdown",
   "metadata": {},
   "source": [
    "#### Open a new channel"
   ]
  },
  {
   "cell_type": "code",
   "execution_count": 71,
   "metadata": {},
   "outputs": [
    {
     "ename": "ConnectionError",
     "evalue": "('Connection aborted.', RemoteDisconnected('Remote end closed connection without response',))",
     "output_type": "error",
     "traceback": [
      "\u001b[0;31m---------------------------------------------------------------------------\u001b[0m",
      "\u001b[0;31mRemoteDisconnected\u001b[0m                        Traceback (most recent call last)",
      "\u001b[0;32m~/anaconda3/envs/raiden/lib/python3.6/site-packages/requests/packages/urllib3/connectionpool.py\u001b[0m in \u001b[0;36murlopen\u001b[0;34m(self, method, url, body, headers, retries, redirect, assert_same_host, timeout, pool_timeout, release_conn, chunked, body_pos, **response_kw)\u001b[0m\n\u001b[1;32m    599\u001b[0m                                                   \u001b[0mbody\u001b[0m\u001b[0;34m=\u001b[0m\u001b[0mbody\u001b[0m\u001b[0;34m,\u001b[0m \u001b[0mheaders\u001b[0m\u001b[0;34m=\u001b[0m\u001b[0mheaders\u001b[0m\u001b[0;34m,\u001b[0m\u001b[0;34m\u001b[0m\u001b[0m\n\u001b[0;32m--> 600\u001b[0;31m                                                   chunked=chunked)\n\u001b[0m\u001b[1;32m    601\u001b[0m \u001b[0;34m\u001b[0m\u001b[0m\n",
      "\u001b[0;32m~/anaconda3/envs/raiden/lib/python3.6/site-packages/requests/packages/urllib3/connectionpool.py\u001b[0m in \u001b[0;36m_make_request\u001b[0;34m(self, conn, method, url, timeout, chunked, **httplib_request_kw)\u001b[0m\n\u001b[1;32m    385\u001b[0m                     \u001b[0;31m# otherwise it looks like a programming error was the cause.\u001b[0m\u001b[0;34m\u001b[0m\u001b[0;34m\u001b[0m\u001b[0m\n\u001b[0;32m--> 386\u001b[0;31m                     \u001b[0msix\u001b[0m\u001b[0;34m.\u001b[0m\u001b[0mraise_from\u001b[0m\u001b[0;34m(\u001b[0m\u001b[0me\u001b[0m\u001b[0;34m,\u001b[0m \u001b[0;32mNone\u001b[0m\u001b[0;34m)\u001b[0m\u001b[0;34m\u001b[0m\u001b[0m\n\u001b[0m\u001b[1;32m    387\u001b[0m         \u001b[0;32mexcept\u001b[0m \u001b[0;34m(\u001b[0m\u001b[0mSocketTimeout\u001b[0m\u001b[0;34m,\u001b[0m \u001b[0mBaseSSLError\u001b[0m\u001b[0;34m,\u001b[0m \u001b[0mSocketError\u001b[0m\u001b[0;34m)\u001b[0m \u001b[0;32mas\u001b[0m \u001b[0me\u001b[0m\u001b[0;34m:\u001b[0m\u001b[0;34m\u001b[0m\u001b[0m\n",
      "\u001b[0;32m~/anaconda3/envs/raiden/lib/python3.6/site-packages/requests/packages/urllib3/packages/six.py\u001b[0m in \u001b[0;36mraise_from\u001b[0;34m(value, from_value)\u001b[0m\n",
      "\u001b[0;32m~/anaconda3/envs/raiden/lib/python3.6/site-packages/requests/packages/urllib3/connectionpool.py\u001b[0m in \u001b[0;36m_make_request\u001b[0;34m(self, conn, method, url, timeout, chunked, **httplib_request_kw)\u001b[0m\n\u001b[1;32m    381\u001b[0m                 \u001b[0;32mtry\u001b[0m\u001b[0;34m:\u001b[0m\u001b[0;34m\u001b[0m\u001b[0m\n\u001b[0;32m--> 382\u001b[0;31m                     \u001b[0mhttplib_response\u001b[0m \u001b[0;34m=\u001b[0m \u001b[0mconn\u001b[0m\u001b[0;34m.\u001b[0m\u001b[0mgetresponse\u001b[0m\u001b[0;34m(\u001b[0m\u001b[0;34m)\u001b[0m\u001b[0;34m\u001b[0m\u001b[0m\n\u001b[0m\u001b[1;32m    383\u001b[0m                 \u001b[0;32mexcept\u001b[0m \u001b[0mException\u001b[0m \u001b[0;32mas\u001b[0m \u001b[0me\u001b[0m\u001b[0;34m:\u001b[0m\u001b[0;34m\u001b[0m\u001b[0m\n",
      "\u001b[0;32m~/anaconda3/envs/raiden/lib/python3.6/http/client.py\u001b[0m in \u001b[0;36mgetresponse\u001b[0;34m(self)\u001b[0m\n\u001b[1;32m   1330\u001b[0m             \u001b[0;32mtry\u001b[0m\u001b[0;34m:\u001b[0m\u001b[0;34m\u001b[0m\u001b[0m\n\u001b[0;32m-> 1331\u001b[0;31m                 \u001b[0mresponse\u001b[0m\u001b[0;34m.\u001b[0m\u001b[0mbegin\u001b[0m\u001b[0;34m(\u001b[0m\u001b[0;34m)\u001b[0m\u001b[0;34m\u001b[0m\u001b[0m\n\u001b[0m\u001b[1;32m   1332\u001b[0m             \u001b[0;32mexcept\u001b[0m \u001b[0mConnectionError\u001b[0m\u001b[0;34m:\u001b[0m\u001b[0;34m\u001b[0m\u001b[0m\n",
      "\u001b[0;32m~/anaconda3/envs/raiden/lib/python3.6/http/client.py\u001b[0m in \u001b[0;36mbegin\u001b[0;34m(self)\u001b[0m\n\u001b[1;32m    296\u001b[0m         \u001b[0;32mwhile\u001b[0m \u001b[0;32mTrue\u001b[0m\u001b[0;34m:\u001b[0m\u001b[0;34m\u001b[0m\u001b[0m\n\u001b[0;32m--> 297\u001b[0;31m             \u001b[0mversion\u001b[0m\u001b[0;34m,\u001b[0m \u001b[0mstatus\u001b[0m\u001b[0;34m,\u001b[0m \u001b[0mreason\u001b[0m \u001b[0;34m=\u001b[0m \u001b[0mself\u001b[0m\u001b[0;34m.\u001b[0m\u001b[0m_read_status\u001b[0m\u001b[0;34m(\u001b[0m\u001b[0;34m)\u001b[0m\u001b[0;34m\u001b[0m\u001b[0m\n\u001b[0m\u001b[1;32m    298\u001b[0m             \u001b[0;32mif\u001b[0m \u001b[0mstatus\u001b[0m \u001b[0;34m!=\u001b[0m \u001b[0mCONTINUE\u001b[0m\u001b[0;34m:\u001b[0m\u001b[0;34m\u001b[0m\u001b[0m\n",
      "\u001b[0;32m~/anaconda3/envs/raiden/lib/python3.6/http/client.py\u001b[0m in \u001b[0;36m_read_status\u001b[0;34m(self)\u001b[0m\n\u001b[1;32m    265\u001b[0m             \u001b[0;31m# sending a valid response.\u001b[0m\u001b[0;34m\u001b[0m\u001b[0;34m\u001b[0m\u001b[0m\n\u001b[0;32m--> 266\u001b[0;31m             raise RemoteDisconnected(\"Remote end closed connection without\"\n\u001b[0m\u001b[1;32m    267\u001b[0m                                      \" response\")\n",
      "\u001b[0;31mRemoteDisconnected\u001b[0m: Remote end closed connection without response",
      "\nDuring handling of the above exception, another exception occurred:\n",
      "\u001b[0;31mProtocolError\u001b[0m                             Traceback (most recent call last)",
      "\u001b[0;32m~/anaconda3/envs/raiden/lib/python3.6/site-packages/requests/adapters.py\u001b[0m in \u001b[0;36msend\u001b[0;34m(self, request, stream, timeout, verify, cert, proxies)\u001b[0m\n\u001b[1;32m    437\u001b[0m                     \u001b[0mretries\u001b[0m\u001b[0;34m=\u001b[0m\u001b[0mself\u001b[0m\u001b[0;34m.\u001b[0m\u001b[0mmax_retries\u001b[0m\u001b[0;34m,\u001b[0m\u001b[0;34m\u001b[0m\u001b[0m\n\u001b[0;32m--> 438\u001b[0;31m                     \u001b[0mtimeout\u001b[0m\u001b[0;34m=\u001b[0m\u001b[0mtimeout\u001b[0m\u001b[0;34m\u001b[0m\u001b[0m\n\u001b[0m\u001b[1;32m    439\u001b[0m                 )\n",
      "\u001b[0;32m~/anaconda3/envs/raiden/lib/python3.6/site-packages/requests/packages/urllib3/connectionpool.py\u001b[0m in \u001b[0;36murlopen\u001b[0;34m(self, method, url, body, headers, retries, redirect, assert_same_host, timeout, pool_timeout, release_conn, chunked, body_pos, **response_kw)\u001b[0m\n\u001b[1;32m    648\u001b[0m             retries = retries.increment(method, url, error=e, _pool=self,\n\u001b[0;32m--> 649\u001b[0;31m                                         _stacktrace=sys.exc_info()[2])\n\u001b[0m\u001b[1;32m    650\u001b[0m             \u001b[0mretries\u001b[0m\u001b[0;34m.\u001b[0m\u001b[0msleep\u001b[0m\u001b[0;34m(\u001b[0m\u001b[0;34m)\u001b[0m\u001b[0;34m\u001b[0m\u001b[0m\n",
      "\u001b[0;32m~/anaconda3/envs/raiden/lib/python3.6/site-packages/requests/packages/urllib3/util/retry.py\u001b[0m in \u001b[0;36mincrement\u001b[0;34m(self, method, url, response, error, _pool, _stacktrace)\u001b[0m\n\u001b[1;32m    356\u001b[0m             \u001b[0;32mif\u001b[0m \u001b[0mread\u001b[0m \u001b[0;32mis\u001b[0m \u001b[0;32mFalse\u001b[0m \u001b[0;32mor\u001b[0m \u001b[0;32mnot\u001b[0m \u001b[0mself\u001b[0m\u001b[0;34m.\u001b[0m\u001b[0m_is_method_retryable\u001b[0m\u001b[0;34m(\u001b[0m\u001b[0mmethod\u001b[0m\u001b[0;34m)\u001b[0m\u001b[0;34m:\u001b[0m\u001b[0;34m\u001b[0m\u001b[0m\n\u001b[0;32m--> 357\u001b[0;31m                 \u001b[0;32mraise\u001b[0m \u001b[0msix\u001b[0m\u001b[0;34m.\u001b[0m\u001b[0mreraise\u001b[0m\u001b[0;34m(\u001b[0m\u001b[0mtype\u001b[0m\u001b[0;34m(\u001b[0m\u001b[0merror\u001b[0m\u001b[0;34m)\u001b[0m\u001b[0;34m,\u001b[0m \u001b[0merror\u001b[0m\u001b[0;34m,\u001b[0m \u001b[0m_stacktrace\u001b[0m\u001b[0;34m)\u001b[0m\u001b[0;34m\u001b[0m\u001b[0m\n\u001b[0m\u001b[1;32m    358\u001b[0m             \u001b[0;32melif\u001b[0m \u001b[0mread\u001b[0m \u001b[0;32mis\u001b[0m \u001b[0;32mnot\u001b[0m \u001b[0;32mNone\u001b[0m\u001b[0;34m:\u001b[0m\u001b[0;34m\u001b[0m\u001b[0m\n",
      "\u001b[0;32m~/anaconda3/envs/raiden/lib/python3.6/site-packages/requests/packages/urllib3/packages/six.py\u001b[0m in \u001b[0;36mreraise\u001b[0;34m(tp, value, tb)\u001b[0m\n\u001b[1;32m    684\u001b[0m         \u001b[0;32mif\u001b[0m \u001b[0mvalue\u001b[0m\u001b[0;34m.\u001b[0m\u001b[0m__traceback__\u001b[0m \u001b[0;32mis\u001b[0m \u001b[0;32mnot\u001b[0m \u001b[0mtb\u001b[0m\u001b[0;34m:\u001b[0m\u001b[0;34m\u001b[0m\u001b[0m\n\u001b[0;32m--> 685\u001b[0;31m             \u001b[0;32mraise\u001b[0m \u001b[0mvalue\u001b[0m\u001b[0;34m.\u001b[0m\u001b[0mwith_traceback\u001b[0m\u001b[0;34m(\u001b[0m\u001b[0mtb\u001b[0m\u001b[0;34m)\u001b[0m\u001b[0;34m\u001b[0m\u001b[0m\n\u001b[0m\u001b[1;32m    686\u001b[0m         \u001b[0;32mraise\u001b[0m \u001b[0mvalue\u001b[0m\u001b[0;34m\u001b[0m\u001b[0m\n",
      "\u001b[0;32m~/anaconda3/envs/raiden/lib/python3.6/site-packages/requests/packages/urllib3/connectionpool.py\u001b[0m in \u001b[0;36murlopen\u001b[0;34m(self, method, url, body, headers, retries, redirect, assert_same_host, timeout, pool_timeout, release_conn, chunked, body_pos, **response_kw)\u001b[0m\n\u001b[1;32m    599\u001b[0m                                                   \u001b[0mbody\u001b[0m\u001b[0;34m=\u001b[0m\u001b[0mbody\u001b[0m\u001b[0;34m,\u001b[0m \u001b[0mheaders\u001b[0m\u001b[0;34m=\u001b[0m\u001b[0mheaders\u001b[0m\u001b[0;34m,\u001b[0m\u001b[0;34m\u001b[0m\u001b[0m\n\u001b[0;32m--> 600\u001b[0;31m                                                   chunked=chunked)\n\u001b[0m\u001b[1;32m    601\u001b[0m \u001b[0;34m\u001b[0m\u001b[0m\n",
      "\u001b[0;32m~/anaconda3/envs/raiden/lib/python3.6/site-packages/requests/packages/urllib3/connectionpool.py\u001b[0m in \u001b[0;36m_make_request\u001b[0;34m(self, conn, method, url, timeout, chunked, **httplib_request_kw)\u001b[0m\n\u001b[1;32m    385\u001b[0m                     \u001b[0;31m# otherwise it looks like a programming error was the cause.\u001b[0m\u001b[0;34m\u001b[0m\u001b[0;34m\u001b[0m\u001b[0m\n\u001b[0;32m--> 386\u001b[0;31m                     \u001b[0msix\u001b[0m\u001b[0;34m.\u001b[0m\u001b[0mraise_from\u001b[0m\u001b[0;34m(\u001b[0m\u001b[0me\u001b[0m\u001b[0;34m,\u001b[0m \u001b[0;32mNone\u001b[0m\u001b[0;34m)\u001b[0m\u001b[0;34m\u001b[0m\u001b[0m\n\u001b[0m\u001b[1;32m    387\u001b[0m         \u001b[0;32mexcept\u001b[0m \u001b[0;34m(\u001b[0m\u001b[0mSocketTimeout\u001b[0m\u001b[0;34m,\u001b[0m \u001b[0mBaseSSLError\u001b[0m\u001b[0;34m,\u001b[0m \u001b[0mSocketError\u001b[0m\u001b[0;34m)\u001b[0m \u001b[0;32mas\u001b[0m \u001b[0me\u001b[0m\u001b[0;34m:\u001b[0m\u001b[0;34m\u001b[0m\u001b[0m\n",
      "\u001b[0;32m~/anaconda3/envs/raiden/lib/python3.6/site-packages/requests/packages/urllib3/packages/six.py\u001b[0m in \u001b[0;36mraise_from\u001b[0;34m(value, from_value)\u001b[0m\n",
      "\u001b[0;32m~/anaconda3/envs/raiden/lib/python3.6/site-packages/requests/packages/urllib3/connectionpool.py\u001b[0m in \u001b[0;36m_make_request\u001b[0;34m(self, conn, method, url, timeout, chunked, **httplib_request_kw)\u001b[0m\n\u001b[1;32m    381\u001b[0m                 \u001b[0;32mtry\u001b[0m\u001b[0;34m:\u001b[0m\u001b[0;34m\u001b[0m\u001b[0m\n\u001b[0;32m--> 382\u001b[0;31m                     \u001b[0mhttplib_response\u001b[0m \u001b[0;34m=\u001b[0m \u001b[0mconn\u001b[0m\u001b[0;34m.\u001b[0m\u001b[0mgetresponse\u001b[0m\u001b[0;34m(\u001b[0m\u001b[0;34m)\u001b[0m\u001b[0;34m\u001b[0m\u001b[0m\n\u001b[0m\u001b[1;32m    383\u001b[0m                 \u001b[0;32mexcept\u001b[0m \u001b[0mException\u001b[0m \u001b[0;32mas\u001b[0m \u001b[0me\u001b[0m\u001b[0;34m:\u001b[0m\u001b[0;34m\u001b[0m\u001b[0m\n",
      "\u001b[0;32m~/anaconda3/envs/raiden/lib/python3.6/http/client.py\u001b[0m in \u001b[0;36mgetresponse\u001b[0;34m(self)\u001b[0m\n\u001b[1;32m   1330\u001b[0m             \u001b[0;32mtry\u001b[0m\u001b[0;34m:\u001b[0m\u001b[0;34m\u001b[0m\u001b[0m\n\u001b[0;32m-> 1331\u001b[0;31m                 \u001b[0mresponse\u001b[0m\u001b[0;34m.\u001b[0m\u001b[0mbegin\u001b[0m\u001b[0;34m(\u001b[0m\u001b[0;34m)\u001b[0m\u001b[0;34m\u001b[0m\u001b[0m\n\u001b[0m\u001b[1;32m   1332\u001b[0m             \u001b[0;32mexcept\u001b[0m \u001b[0mConnectionError\u001b[0m\u001b[0;34m:\u001b[0m\u001b[0;34m\u001b[0m\u001b[0m\n",
      "\u001b[0;32m~/anaconda3/envs/raiden/lib/python3.6/http/client.py\u001b[0m in \u001b[0;36mbegin\u001b[0;34m(self)\u001b[0m\n\u001b[1;32m    296\u001b[0m         \u001b[0;32mwhile\u001b[0m \u001b[0;32mTrue\u001b[0m\u001b[0;34m:\u001b[0m\u001b[0;34m\u001b[0m\u001b[0m\n\u001b[0;32m--> 297\u001b[0;31m             \u001b[0mversion\u001b[0m\u001b[0;34m,\u001b[0m \u001b[0mstatus\u001b[0m\u001b[0;34m,\u001b[0m \u001b[0mreason\u001b[0m \u001b[0;34m=\u001b[0m \u001b[0mself\u001b[0m\u001b[0;34m.\u001b[0m\u001b[0m_read_status\u001b[0m\u001b[0;34m(\u001b[0m\u001b[0;34m)\u001b[0m\u001b[0;34m\u001b[0m\u001b[0m\n\u001b[0m\u001b[1;32m    298\u001b[0m             \u001b[0;32mif\u001b[0m \u001b[0mstatus\u001b[0m \u001b[0;34m!=\u001b[0m \u001b[0mCONTINUE\u001b[0m\u001b[0;34m:\u001b[0m\u001b[0;34m\u001b[0m\u001b[0m\n",
      "\u001b[0;32m~/anaconda3/envs/raiden/lib/python3.6/http/client.py\u001b[0m in \u001b[0;36m_read_status\u001b[0;34m(self)\u001b[0m\n\u001b[1;32m    265\u001b[0m             \u001b[0;31m# sending a valid response.\u001b[0m\u001b[0;34m\u001b[0m\u001b[0;34m\u001b[0m\u001b[0m\n\u001b[0;32m--> 266\u001b[0;31m             raise RemoteDisconnected(\"Remote end closed connection without\"\n\u001b[0m\u001b[1;32m    267\u001b[0m                                      \" response\")\n",
      "\u001b[0;31mProtocolError\u001b[0m: ('Connection aborted.', RemoteDisconnected('Remote end closed connection without response',))",
      "\nDuring handling of the above exception, another exception occurred:\n",
      "\u001b[0;31mConnectionError\u001b[0m                           Traceback (most recent call last)",
      "\u001b[0;32m<ipython-input-71-c8780c097f66>\u001b[0m in \u001b[0;36m<module>\u001b[0;34m()\u001b[0m\n\u001b[1;32m      5\u001b[0m     \u001b[0;34m\"settle_timeout\"\u001b[0m\u001b[0;34m:\u001b[0m \u001b[0;36m100\u001b[0m\u001b[0;34m\u001b[0m\u001b[0m\n\u001b[1;32m      6\u001b[0m }\n\u001b[0;32m----> 7\u001b[0;31m \u001b[0mput\u001b[0m\u001b[0;34m(\u001b[0m\u001b[0mraiden2\u001b[0m\u001b[0;34m+\u001b[0m\u001b[0;34m'/api/1/channels'\u001b[0m\u001b[0;34m,\u001b[0m \u001b[0mjson\u001b[0m\u001b[0;34m=\u001b[0m\u001b[0mpayload\u001b[0m\u001b[0;34m)\u001b[0m\u001b[0;34m\u001b[0m\u001b[0m\n\u001b[0m",
      "\u001b[0;32m<ipython-input-19-eb593f2e521c>\u001b[0m in \u001b[0;36m<lambda>\u001b[0;34m(x, json)\u001b[0m\n\u001b[1;32m      4\u001b[0m \u001b[0mpost\u001b[0m \u001b[0;34m=\u001b[0m \u001b[0;32mlambda\u001b[0m \u001b[0mx\u001b[0m\u001b[0;34m,\u001b[0m \u001b[0mjson\u001b[0m\u001b[0;34m=\u001b[0m\u001b[0;34m{\u001b[0m\u001b[0;34m}\u001b[0m\u001b[0;34m:\u001b[0m \u001b[0mpp\u001b[0m\u001b[0;34m(\u001b[0m\u001b[0;34m'GET'\u001b[0m\u001b[0;34m,\u001b[0m \u001b[0mx\u001b[0m\u001b[0;34m,\u001b[0m \u001b[0mjson\u001b[0m\u001b[0;34m,\u001b[0m \u001b[0mreq\u001b[0m\u001b[0;34m.\u001b[0m\u001b[0mpost\u001b[0m\u001b[0;34m(\u001b[0m\u001b[0mx\u001b[0m\u001b[0;34m,\u001b[0m \u001b[0mjson\u001b[0m\u001b[0;34m=\u001b[0m\u001b[0mjson\u001b[0m\u001b[0;34m)\u001b[0m\u001b[0;34m)\u001b[0m\u001b[0;34m\u001b[0m\u001b[0m\n\u001b[1;32m      5\u001b[0m \u001b[0mpatch\u001b[0m \u001b[0;34m=\u001b[0m \u001b[0;32mlambda\u001b[0m \u001b[0mx\u001b[0m\u001b[0;34m,\u001b[0m \u001b[0mjson\u001b[0m\u001b[0;34m=\u001b[0m\u001b[0;34m{\u001b[0m\u001b[0;34m}\u001b[0m\u001b[0;34m:\u001b[0m \u001b[0mpp\u001b[0m\u001b[0;34m(\u001b[0m\u001b[0;34m'GET'\u001b[0m\u001b[0;34m,\u001b[0m \u001b[0mx\u001b[0m\u001b[0;34m,\u001b[0m \u001b[0mjson\u001b[0m\u001b[0;34m,\u001b[0m \u001b[0mreq\u001b[0m\u001b[0;34m.\u001b[0m\u001b[0mpatch\u001b[0m\u001b[0;34m(\u001b[0m\u001b[0mx\u001b[0m\u001b[0;34m,\u001b[0m \u001b[0mjson\u001b[0m\u001b[0;34m=\u001b[0m\u001b[0mjson\u001b[0m\u001b[0;34m)\u001b[0m\u001b[0;34m)\u001b[0m\u001b[0;34m\u001b[0m\u001b[0m\n\u001b[0;32m----> 6\u001b[0;31m \u001b[0mput\u001b[0m \u001b[0;34m=\u001b[0m \u001b[0;32mlambda\u001b[0m \u001b[0mx\u001b[0m\u001b[0;34m,\u001b[0m \u001b[0mjson\u001b[0m\u001b[0;34m=\u001b[0m\u001b[0;34m{\u001b[0m\u001b[0;34m}\u001b[0m\u001b[0;34m:\u001b[0m \u001b[0mpp\u001b[0m\u001b[0;34m(\u001b[0m\u001b[0;34m'GET'\u001b[0m\u001b[0;34m,\u001b[0m \u001b[0mx\u001b[0m\u001b[0;34m,\u001b[0m \u001b[0mjson\u001b[0m\u001b[0;34m,\u001b[0m \u001b[0mreq\u001b[0m\u001b[0;34m.\u001b[0m\u001b[0mput\u001b[0m\u001b[0;34m(\u001b[0m\u001b[0mx\u001b[0m\u001b[0;34m,\u001b[0m \u001b[0mjson\u001b[0m\u001b[0;34m=\u001b[0m\u001b[0mjson\u001b[0m\u001b[0;34m)\u001b[0m\u001b[0;34m)\u001b[0m\u001b[0;34m\u001b[0m\u001b[0m\n\u001b[0m",
      "\u001b[0;32m~/anaconda3/envs/raiden/lib/python3.6/site-packages/requests/api.py\u001b[0m in \u001b[0;36mput\u001b[0;34m(url, data, **kwargs)\u001b[0m\n\u001b[1;32m    124\u001b[0m     \"\"\"\n\u001b[1;32m    125\u001b[0m \u001b[0;34m\u001b[0m\u001b[0m\n\u001b[0;32m--> 126\u001b[0;31m     \u001b[0;32mreturn\u001b[0m \u001b[0mrequest\u001b[0m\u001b[0;34m(\u001b[0m\u001b[0;34m'put'\u001b[0m\u001b[0;34m,\u001b[0m \u001b[0murl\u001b[0m\u001b[0;34m,\u001b[0m \u001b[0mdata\u001b[0m\u001b[0;34m=\u001b[0m\u001b[0mdata\u001b[0m\u001b[0;34m,\u001b[0m \u001b[0;34m**\u001b[0m\u001b[0mkwargs\u001b[0m\u001b[0;34m)\u001b[0m\u001b[0;34m\u001b[0m\u001b[0m\n\u001b[0m\u001b[1;32m    127\u001b[0m \u001b[0;34m\u001b[0m\u001b[0m\n\u001b[1;32m    128\u001b[0m \u001b[0;34m\u001b[0m\u001b[0m\n",
      "\u001b[0;32m~/anaconda3/envs/raiden/lib/python3.6/site-packages/requests/api.py\u001b[0m in \u001b[0;36mrequest\u001b[0;34m(method, url, **kwargs)\u001b[0m\n\u001b[1;32m     56\u001b[0m     \u001b[0;31m# cases, and look like a memory leak in others.\u001b[0m\u001b[0;34m\u001b[0m\u001b[0;34m\u001b[0m\u001b[0m\n\u001b[1;32m     57\u001b[0m     \u001b[0;32mwith\u001b[0m \u001b[0msessions\u001b[0m\u001b[0;34m.\u001b[0m\u001b[0mSession\u001b[0m\u001b[0;34m(\u001b[0m\u001b[0;34m)\u001b[0m \u001b[0;32mas\u001b[0m \u001b[0msession\u001b[0m\u001b[0;34m:\u001b[0m\u001b[0;34m\u001b[0m\u001b[0m\n\u001b[0;32m---> 58\u001b[0;31m         \u001b[0;32mreturn\u001b[0m \u001b[0msession\u001b[0m\u001b[0;34m.\u001b[0m\u001b[0mrequest\u001b[0m\u001b[0;34m(\u001b[0m\u001b[0mmethod\u001b[0m\u001b[0;34m=\u001b[0m\u001b[0mmethod\u001b[0m\u001b[0;34m,\u001b[0m \u001b[0murl\u001b[0m\u001b[0;34m=\u001b[0m\u001b[0murl\u001b[0m\u001b[0;34m,\u001b[0m \u001b[0;34m**\u001b[0m\u001b[0mkwargs\u001b[0m\u001b[0;34m)\u001b[0m\u001b[0;34m\u001b[0m\u001b[0m\n\u001b[0m\u001b[1;32m     59\u001b[0m \u001b[0;34m\u001b[0m\u001b[0m\n\u001b[1;32m     60\u001b[0m \u001b[0;34m\u001b[0m\u001b[0m\n",
      "\u001b[0;32m~/anaconda3/envs/raiden/lib/python3.6/site-packages/requests/sessions.py\u001b[0m in \u001b[0;36mrequest\u001b[0;34m(self, method, url, params, data, headers, cookies, files, auth, timeout, allow_redirects, proxies, hooks, stream, verify, cert, json)\u001b[0m\n\u001b[1;32m    516\u001b[0m         }\n\u001b[1;32m    517\u001b[0m         \u001b[0msend_kwargs\u001b[0m\u001b[0;34m.\u001b[0m\u001b[0mupdate\u001b[0m\u001b[0;34m(\u001b[0m\u001b[0msettings\u001b[0m\u001b[0;34m)\u001b[0m\u001b[0;34m\u001b[0m\u001b[0m\n\u001b[0;32m--> 518\u001b[0;31m         \u001b[0mresp\u001b[0m \u001b[0;34m=\u001b[0m \u001b[0mself\u001b[0m\u001b[0;34m.\u001b[0m\u001b[0msend\u001b[0m\u001b[0;34m(\u001b[0m\u001b[0mprep\u001b[0m\u001b[0;34m,\u001b[0m \u001b[0;34m**\u001b[0m\u001b[0msend_kwargs\u001b[0m\u001b[0;34m)\u001b[0m\u001b[0;34m\u001b[0m\u001b[0m\n\u001b[0m\u001b[1;32m    519\u001b[0m \u001b[0;34m\u001b[0m\u001b[0m\n\u001b[1;32m    520\u001b[0m         \u001b[0;32mreturn\u001b[0m \u001b[0mresp\u001b[0m\u001b[0;34m\u001b[0m\u001b[0m\n",
      "\u001b[0;32m~/anaconda3/envs/raiden/lib/python3.6/site-packages/requests/sessions.py\u001b[0m in \u001b[0;36msend\u001b[0;34m(self, request, **kwargs)\u001b[0m\n\u001b[1;32m    637\u001b[0m \u001b[0;34m\u001b[0m\u001b[0m\n\u001b[1;32m    638\u001b[0m         \u001b[0;31m# Send the request\u001b[0m\u001b[0;34m\u001b[0m\u001b[0;34m\u001b[0m\u001b[0m\n\u001b[0;32m--> 639\u001b[0;31m         \u001b[0mr\u001b[0m \u001b[0;34m=\u001b[0m \u001b[0madapter\u001b[0m\u001b[0;34m.\u001b[0m\u001b[0msend\u001b[0m\u001b[0;34m(\u001b[0m\u001b[0mrequest\u001b[0m\u001b[0;34m,\u001b[0m \u001b[0;34m**\u001b[0m\u001b[0mkwargs\u001b[0m\u001b[0;34m)\u001b[0m\u001b[0;34m\u001b[0m\u001b[0m\n\u001b[0m\u001b[1;32m    640\u001b[0m \u001b[0;34m\u001b[0m\u001b[0m\n\u001b[1;32m    641\u001b[0m         \u001b[0;31m# Total elapsed time of the request (approximately)\u001b[0m\u001b[0;34m\u001b[0m\u001b[0;34m\u001b[0m\u001b[0m\n",
      "\u001b[0;32m~/anaconda3/envs/raiden/lib/python3.6/site-packages/requests/adapters.py\u001b[0m in \u001b[0;36msend\u001b[0;34m(self, request, stream, timeout, verify, cert, proxies)\u001b[0m\n\u001b[1;32m    486\u001b[0m \u001b[0;34m\u001b[0m\u001b[0m\n\u001b[1;32m    487\u001b[0m         \u001b[0;32mexcept\u001b[0m \u001b[0;34m(\u001b[0m\u001b[0mProtocolError\u001b[0m\u001b[0;34m,\u001b[0m \u001b[0msocket\u001b[0m\u001b[0;34m.\u001b[0m\u001b[0merror\u001b[0m\u001b[0;34m)\u001b[0m \u001b[0;32mas\u001b[0m \u001b[0merr\u001b[0m\u001b[0;34m:\u001b[0m\u001b[0;34m\u001b[0m\u001b[0m\n\u001b[0;32m--> 488\u001b[0;31m             \u001b[0;32mraise\u001b[0m \u001b[0mConnectionError\u001b[0m\u001b[0;34m(\u001b[0m\u001b[0merr\u001b[0m\u001b[0;34m,\u001b[0m \u001b[0mrequest\u001b[0m\u001b[0;34m=\u001b[0m\u001b[0mrequest\u001b[0m\u001b[0;34m)\u001b[0m\u001b[0;34m\u001b[0m\u001b[0m\n\u001b[0m\u001b[1;32m    489\u001b[0m \u001b[0;34m\u001b[0m\u001b[0m\n\u001b[1;32m    490\u001b[0m         \u001b[0;32mexcept\u001b[0m \u001b[0mMaxRetryError\u001b[0m \u001b[0;32mas\u001b[0m \u001b[0me\u001b[0m\u001b[0;34m:\u001b[0m\u001b[0;34m\u001b[0m\u001b[0m\n",
      "\u001b[0;31mConnectionError\u001b[0m: ('Connection aborted.', RemoteDisconnected('Remote end closed connection without response',))"
     ]
    }
   ],
   "source": [
    "payload = {\n",
    "    \"partner_address\": rp_troels,\n",
    "    \"token_address\": BET_add,\n",
    "    \"balance\": 1000,\n",
    "    \"settle_timeout\": 100\n",
    "}\n",
    "put(raiden2+'/api/1/channels', json=payload)"
   ]
  },
  {
   "cell_type": "code",
   "execution_count": 77,
   "metadata": {
    "collapsed": true
   },
   "outputs": [],
   "source": [
    "BET_chn = '0x925b9f75374b5699720e2ae0e0888cd8e2d9e7c6'"
   ]
  },
  {
   "cell_type": "code",
   "execution_count": 76,
   "metadata": {},
   "outputs": [
    {
     "name": "stdout",
     "output_type": "stream",
     "text": [
      "GET http://localhost:5003/api/1/tokens/0x706FFE280B3AB30719212a8B6F4a1B2aC00F0862/partners with payload {}\n",
      "[\n",
      " {\n",
      "  \"partner_address\": \"0x00eb7c6b18f8f83aed4b84cbfd58aab184b46752\",\n",
      "  \"channel\": \"/api/1/channels/0xcf312d3743e09ccb7630c185b80d65747479bb6a\"\n",
      " },\n",
      " {\n",
      "  \"partner_address\": \"0xcbf7cad97e21fabdc4ee39518a71e979e1255d00\",\n",
      "  \"channel\": \"/api/1/channels/0x925b9f75374b5699720e2ae0e0888cd8e2d9e7c6\"\n",
      " }\n",
      "]\n"
     ]
    }
   ],
   "source": [
    " get(raiden2 + '/api/1/tokens/' + BET_add + '/partners')"
   ]
  },
  {
   "cell_type": "markdown",
   "metadata": {},
   "source": [
    "Now let's send some BETs to rp_troels"
   ]
  },
  {
   "cell_type": "code",
   "execution_count": 68,
   "metadata": {},
   "outputs": [
    {
     "name": "stdout",
     "output_type": "stream",
     "text": [
      "GET http://localhost:5002/api/1/transfers/0x706FFE280B3AB30719212a8B6F4a1B2aC00F0862/0xcbf7cad97e21fabdc4ee39518a71e979e1255d00 with payload {\"amount\": 50}\n",
      "{\n",
      " \"target_address\": \"0xcbf7cad97e21fabdc4ee39518a71e979e1255d00\",\n",
      " \"amount\": 50,\n",
      " \"identifier\": 14265619877889995763,\n",
      " \"token_address\": \"0x706ffe280b3ab30719212a8b6f4a1b2ac00f0862\",\n",
      " \"initiator_address\": \"0x00eb7c6b18f8f83aed4b84cbfd58aab184b46752\"\n",
      "}\n"
     ]
    }
   ],
   "source": [
    "post(raiden1+'/api/1/transfers/'+BET_add+'/'+rp_troels, json={'amount':50})"
   ]
  },
  {
   "cell_type": "markdown",
   "metadata": {},
   "source": [
    "Let's check how much pierre2 has now"
   ]
  },
  {
   "cell_type": "code",
   "execution_count": 79,
   "metadata": {
    "scrolled": true
   },
   "outputs": [
    {
     "name": "stdout",
     "output_type": "stream",
     "text": [
      "GET http://localhost:5003/api/1/channels/0x925b9f75374b5699720e2ae0e0888cd8e2d9e7c6 with payload {}\n",
      "{\n",
      " \"partner_address\": \"0xcbf7cad97e21fabdc4ee39518a71e979e1255d00\",\n",
      " \"balance\": 0,\n",
      " \"reveal_timeout\": 20,\n",
      " \"settle_timeout\": 100,\n",
      " \"state\": \"opened\",\n",
      " \"channel_address\": \"0x925b9f75374b5699720e2ae0e0888cd8e2d9e7c6\",\n",
      " \"token_address\": \"0x706ffe280b3ab30719212a8b6f4a1b2ac00f0862\"\n",
      "}\n"
     ]
    }
   ],
   "source": [
    "get(raiden2 + '/api/1/channels/' + BET_chn)"
   ]
  },
  {
   "cell_type": "markdown",
   "metadata": {},
   "source": [
    "Let's send some back to pierre1"
   ]
  },
  {
   "cell_type": "code",
   "execution_count": 35,
   "metadata": {
    "scrolled": false
   },
   "outputs": [
    {
     "name": "stdout",
     "output_type": "stream",
     "text": [
      "GET http://localhost:5003/api/1/transfers/0x706FFE280B3AB30719212a8B6F4a1B2aC00F0862/0x00eb7c6b18f8f83aed4b84cbfd58aab184b46752 with payload {\"amount\": 1}\n",
      "{\n",
      " \"target_address\": \"0x00eb7c6b18f8f83aed4b84cbfd58aab184b46752\",\n",
      " \"amount\": 1,\n",
      " \"identifier\": 977680640545099446,\n",
      " \"token_address\": \"0x706ffe280b3ab30719212a8b6f4a1b2ac00f0862\",\n",
      " \"initiator_address\": \"0x0075703bf50aebe6755844c0c9b28cdb8f730933\"\n",
      "}\n"
     ]
    }
   ],
   "source": [
    "post(raiden2+'/api/1/transfers/'+BET_add+'/'+pierre1, json={'amount':1})"
   ]
  },
  {
   "cell_type": "code",
   "execution_count": 36,
   "metadata": {},
   "outputs": [
    {
     "name": "stdout",
     "output_type": "stream",
     "text": [
      "GET http://localhost:5002/api/1/channels/0xcf312d3743e09ccb7630c185b80d65747479bb6a with payload {}\n",
      "{\n",
      " \"partner_address\": \"0x0075703bf50aebe6755844c0c9b28cdb8f730933\",\n",
      " \"balance\": 1091,\n",
      " \"reveal_timeout\": 20,\n",
      " \"settle_timeout\": 100,\n",
      " \"state\": \"opened\",\n",
      " \"channel_address\": \"0xcf312d3743e09ccb7630c185b80d65747479bb6a\",\n",
      " \"token_address\": \"0x706ffe280b3ab30719212a8b6f4a1b2ac00f0862\"\n",
      "}\n"
     ]
    }
   ],
   "source": [
    "get(raiden1 + '/api/1/channels/' + BET_chn)"
   ]
  },
  {
   "cell_type": "markdown",
   "metadata": {},
   "source": [
    "#### Let's put more BET funds"
   ]
  },
  {
   "cell_type": "code",
   "execution_count": 60,
   "metadata": {
    "scrolled": false
   },
   "outputs": [
    {
     "name": "stdout",
     "output_type": "stream",
     "text": [
      "GET http://localhost:5002/api/1/channels/0x5c0766a992b3226ff4555652cf41cbbc032ab075 with payload {\"balance\": 1000}\n",
      "{\n",
      " \"message\": \"Internal Server Error\"\n",
      "}\n"
     ]
    }
   ],
   "source": [
    "patch(raiden1 + '/api/1/channels/' + BET_chn, json={'balance':1000})"
   ]
  },
  {
   "cell_type": "code",
   "execution_count": 66,
   "metadata": {},
   "outputs": [
    {
     "name": "stdout",
     "output_type": "stream",
     "text": [
      "GET http://localhost:5002/api/1/channels/0x5c0766a992b3226ff4555652cf41cbbc032ab075 with payload {}\n",
      "{\n",
      " \"partner_address\": \"0xcbf7cad97e21fabdc4ee39518a71e979e1255d00\",\n",
      " \"balance\": 12000,\n",
      " \"reveal_timeout\": 20,\n",
      " \"settle_timeout\": 100,\n",
      " \"state\": \"opened\",\n",
      " \"channel_address\": \"0x5c0766a992b3226ff4555652cf41cbbc032ab075\",\n",
      " \"token_address\": \"0x706ffe280b3ab30719212a8b6f4a1b2ac00f0862\"\n",
      "}\n"
     ]
    }
   ],
   "source": [
    "get(raiden1 + '/api/1/channels/' + BET_chn)"
   ]
  },
  {
   "cell_type": "markdown",
   "metadata": {},
   "source": [
    "### Lets close the channel"
   ]
  },
  {
   "cell_type": "code",
   "execution_count": 42,
   "metadata": {},
   "outputs": [
    {
     "data": {
      "text/plain": [
       "'0x00eb7c6b18f8f83aed4b84cbfd58aab184b46752'"
      ]
     },
     "execution_count": 42,
     "metadata": {},
     "output_type": "execute_result"
    }
   ],
   "source": [
    "pierre1"
   ]
  },
  {
   "cell_type": "code",
   "execution_count": 41,
   "metadata": {},
   "outputs": [
    {
     "name": "stdout",
     "output_type": "stream",
     "text": [
      "GET http://localhost:5002/api/1/channels/0xcf312d3743e09ccb7630c185b80d65747479bb6a with payload {\"state\": \"closed\"}\n",
      "{\n",
      " \"partner_address\": \"0x0075703bf50aebe6755844c0c9b28cdb8f730933\",\n",
      " \"balance\": 991,\n",
      " \"reveal_timeout\": 20,\n",
      " \"settle_timeout\": 100,\n",
      " \"state\": \"opened\",\n",
      " \"channel_address\": \"0xcf312d3743e09ccb7630c185b80d65747479bb6a\",\n",
      " \"token_address\": \"0x706ffe280b3ab30719212a8b6f4a1b2ac00f0862\"\n",
      "}\n"
     ]
    }
   ],
   "source": [
    "patch(raiden1 + '/api/1/channels/' + BET_chn, json={\"state\":\"closed\"})"
   ]
  },
  {
   "cell_type": "code",
   "execution_count": 141,
   "metadata": {},
   "outputs": [
    {
     "name": "stdout",
     "output_type": "stream",
     "text": [
      "{\n",
      " \"partner_address\": \"0x00eb7c6b18f8f83aed4b84cbfd58aab184b46752\",\n",
      " \"balance\": 50,\n",
      " \"reveal_timeout\": 10,\n",
      " \"settle_timeout\": 100,\n",
      " \"state\": \"opened\",\n",
      " \"channel_address\": \"0xcf312d3743e09ccb7630c185b80d65747479bb6a\",\n",
      " \"token_address\": \"0x706ffe280b3ab30719212a8b6f4a1b2ac00f0862\"\n",
      "}\n"
     ]
    }
   ],
   "source": [
    "patch(raiden2 + '/api/1/channels/' + BET_chn, json={\"state\":\"closed\"})"
   ]
  },
  {
   "cell_type": "code",
   "execution_count": 143,
   "metadata": {},
   "outputs": [
    {
     "name": "stdout",
     "output_type": "stream",
     "text": [
      "{\n",
      " \"partner_address\": \"0x0075703bf50aebe6755844c0c9b28cdb8f730933\",\n",
      " \"balance\": 1050,\n",
      " \"reveal_timeout\": 10,\n",
      " \"settle_timeout\": 100,\n",
      " \"state\": \"opened\",\n",
      " \"channel_address\": \"0xcf312d3743e09ccb7630c185b80d65747479bb6a\",\n",
      " \"token_address\": \"0x706ffe280b3ab30719212a8b6f4a1b2ac00f0862\"\n",
      "}\n"
     ]
    }
   ],
   "source": [
    "get(raiden1 + '/api/1/channels/' + BET_chn)"
   ]
  },
  {
   "cell_type": "markdown",
   "metadata": {},
   "source": [
    "Mehhh doesn't seem to work at all"
   ]
  },
  {
   "cell_type": "markdown",
   "metadata": {},
   "source": [
    "### Lets settle the channel"
   ]
  },
  {
   "cell_type": "code",
   "execution_count": 144,
   "metadata": {},
   "outputs": [
    {
     "name": "stdout",
     "output_type": "stream",
     "text": [
      "{\n",
      " \"errors\": \"Attempted to settle a channel at its opened state\"\n",
      "}\n"
     ]
    }
   ],
   "source": [
    "patch(raiden1 + '/api/1/channels/' + BET_chn, json={\"state\":\"settled\"})"
   ]
  },
  {
   "cell_type": "markdown",
   "metadata": {},
   "source": [
    "Can't settle if it's not closed already"
   ]
  },
  {
   "cell_type": "markdown",
   "metadata": {},
   "source": [
    "### Let's look at some events"
   ]
  },
  {
   "cell_type": "code",
   "execution_count": 69,
   "metadata": {
    "scrolled": false
   },
   "outputs": [
    {
     "name": "stdout",
     "output_type": "stream",
     "text": [
      "GET http://localhost:5002/api/1/events/tokens/0x706FFE280B3AB30719212a8B6F4a1B2aC00F0862 with payload {}\n",
      "[\n",
      " {\n",
      "  \"participant1\": \"00eb7c6b18f8f83aed4b84cbfd58aab184b46752\",\n",
      "  \"block_number\": 2108290,\n",
      "  \"netting_channel\": \"5c0766a992b3226ff4555652cf41cbbc032ab075\",\n",
      "  \"participant2\": \"cbf7cad97e21fabdc4ee39518a71e979e1255d00\",\n",
      "  \"event_type\": \"ChannelNew\",\n",
      "  \"settle_timeout\": 100\n",
      " }\n",
      "]\n"
     ]
    }
   ],
   "source": [
    "get(raiden1 + '/api/1/events/tokens/' + BET_add)"
   ]
  },
  {
   "cell_type": "code",
   "execution_count": 70,
   "metadata": {
    "scrolled": true
   },
   "outputs": [
    {
     "name": "stdout",
     "output_type": "stream",
     "text": [
      "GET http://localhost:5002/api/1/events/channels/0x5c0766a992b3226ff4555652cf41cbbc032ab075 with payload {}\n",
      "[\n",
      " {\n",
      "  \"block_number\": 2108351,\n",
      "  \"participant\": \"00eb7c6b18f8f83aed4b84cbfd58aab184b46752\",\n",
      "  \"event_type\": \"ChannelNewBalance\",\n",
      "  \"balance\": 1000,\n",
      "  \"token_address\": \"706ffe280b3ab30719212a8b6f4a1b2ac00f0862\"\n",
      " },\n",
      " {\n",
      "  \"block_number\": 2108400,\n",
      "  \"participant\": \"00eb7c6b18f8f83aed4b84cbfd58aab184b46752\",\n",
      "  \"event_type\": \"ChannelNewBalance\",\n",
      "  \"balance\": 2000,\n",
      "  \"token_address\": \"706ffe280b3ab30719212a8b6f4a1b2ac00f0862\"\n",
      " },\n",
      " {\n",
      "  \"block_number\": 2108400,\n",
      "  \"participant\": \"cbf7cad97e21fabdc4ee39518a71e979e1255d00\",\n",
      "  \"event_type\": \"ChannelNewBalance\",\n",
      "  \"balance\": 10,\n",
      "  \"token_address\": \"706ffe280b3ab30719212a8b6f4a1b2ac00f0862\"\n",
      " },\n",
      " {\n",
      "  \"block_number\": 2108402,\n",
      "  \"participant\": \"00eb7c6b18f8f83aed4b84cbfd58aab184b46752\",\n",
      "  \"event_type\": \"ChannelNewBalance\",\n",
      "  \"balance\": 12000,\n",
      "  \"token_address\": \"706ffe280b3ab30719212a8b6f4a1b2ac00f0862\"\n",
      " },\n",
      " {\n",
      "  \"block_number\": 2089071,\n",
      "  \"target\": \"0075703bf50aebe6755844c0c9b28cdb8f730933\",\n",
      "  \"amount\": 2,\n",
      "  \"identifier\": 1510932905657,\n",
      "  \"event_type\": \"EventTransferSentSuccess\"\n",
      " },\n",
      " {\n",
      "  \"block_number\": 2089075,\n",
      "  \"initiator\": \"0075703bf50aebe6755844c0c9b28cdb8f730933\",\n",
      "  \"event_type\": \"EventTransferReceivedSuccess\",\n",
      "  \"amount\": 5,\n",
      "  \"identifier\": 1510932919976\n",
      " },\n",
      " {\n",
      "  \"block_number\": 2089237,\n",
      "  \"target\": \"0075703bf50aebe6755844c0c9b28cdb8f730933\",\n",
      "  \"amount\": 4,\n",
      "  \"identifier\": 1510934555794,\n",
      "  \"event_type\": \"EventTransferSentSuccess\"\n",
      " },\n",
      " {\n",
      "  \"block_number\": 2089239,\n",
      "  \"initiator\": \"0075703bf50aebe6755844c0c9b28cdb8f730933\",\n",
      "  \"event_type\": \"EventTransferReceivedSuccess\",\n",
      "  \"amount\": 10,\n",
      "  \"identifier\": 1510934575895\n",
      " },\n",
      " {\n",
      "  \"block_number\": 2089308,\n",
      "  \"initiator\": \"0075703bf50aebe6755844c0c9b28cdb8f730933\",\n",
      "  \"event_type\": \"EventTransferReceivedSuccess\",\n",
      "  \"amount\": 3,\n",
      "  \"identifier\": 1510935089825\n",
      " },\n",
      " {\n",
      "  \"block_number\": 2089462,\n",
      "  \"target\": \"0075703bf50aebe6755844c0c9b28cdb8f730933\",\n",
      "  \"amount\": 2,\n",
      "  \"identifier\": 11599366049839682777,\n",
      "  \"event_type\": \"EventTransferSentSuccess\"\n",
      " },\n",
      " {\n",
      "  \"block_number\": 2089468,\n",
      "  \"target\": \"0075703bf50aebe6755844c0c9b28cdb8f730933\",\n",
      "  \"amount\": 2,\n",
      "  \"identifier\": 17085522117603594998,\n",
      "  \"event_type\": \"EventTransferSentSuccess\"\n",
      " },\n",
      " {\n",
      "  \"block_number\": 2090839,\n",
      "  \"target\": \"0075703bf50aebe6755844c0c9b28cdb8f730933\",\n",
      "  \"amount\": 2,\n",
      "  \"identifier\": 9771271522753286129,\n",
      "  \"event_type\": \"EventTransferSentSuccess\"\n",
      " },\n",
      " {\n",
      "  \"block_number\": 2090839,\n",
      "  \"initiator\": \"0075703bf50aebe6755844c0c9b28cdb8f730933\",\n",
      "  \"event_type\": \"EventTransferReceivedSuccess\",\n",
      "  \"amount\": 2,\n",
      "  \"identifier\": 8655501647554862244\n",
      " },\n",
      " {\n",
      "  \"block_number\": 2090840,\n",
      "  \"initiator\": \"0075703bf50aebe6755844c0c9b28cdb8f730933\",\n",
      "  \"event_type\": \"EventTransferReceivedSuccess\",\n",
      "  \"amount\": 2,\n",
      "  \"identifier\": 4051556364963046238\n",
      " },\n",
      " {\n",
      "  \"block_number\": 2090846,\n",
      "  \"target\": \"0075703bf50aebe6755844c0c9b28cdb8f730933\",\n",
      "  \"amount\": 2,\n",
      "  \"identifier\": 15808317539482420212,\n",
      "  \"event_type\": \"EventTransferSentSuccess\"\n",
      " },\n",
      " {\n",
      "  \"block_number\": 2090849,\n",
      "  \"target\": \"0075703bf50aebe6755844c0c9b28cdb8f730933\",\n",
      "  \"amount\": 2,\n",
      "  \"identifier\": 6533463613342733557,\n",
      "  \"event_type\": \"EventTransferSentSuccess\"\n",
      " },\n",
      " {\n",
      "  \"block_number\": 2090853,\n",
      "  \"target\": \"0075703bf50aebe6755844c0c9b28cdb8f730933\",\n",
      "  \"amount\": 2,\n",
      "  \"identifier\": 13130848444448174563,\n",
      "  \"event_type\": \"EventTransferSentSuccess\"\n",
      " },\n",
      " {\n",
      "  \"block_number\": 2090945,\n",
      "  \"target\": \"0075703bf50aebe6755844c0c9b28cdb8f730933\",\n",
      "  \"amount\": 100,\n",
      "  \"identifier\": 3456103148163452042,\n",
      "  \"event_type\": \"EventTransferSentSuccess\"\n",
      " },\n",
      " {\n",
      "  \"block_number\": 2090956,\n",
      "  \"initiator\": \"0075703bf50aebe6755844c0c9b28cdb8f730933\",\n",
      "  \"event_type\": \"EventTransferReceivedSuccess\",\n",
      "  \"amount\": 50,\n",
      "  \"identifier\": 1065139466100871340\n",
      " },\n",
      " {\n",
      "  \"block_number\": 2090956,\n",
      "  \"target\": \"0075703bf50aebe6755844c0c9b28cdb8f730933\",\n",
      "  \"amount\": 10,\n",
      "  \"identifier\": 12512444386014554196,\n",
      "  \"event_type\": \"EventTransferSentSuccess\"\n",
      " },\n",
      " {\n",
      "  \"block_number\": 2090956,\n",
      "  \"initiator\": \"0075703bf50aebe6755844c0c9b28cdb8f730933\",\n",
      "  \"event_type\": \"EventTransferReceivedSuccess\",\n",
      "  \"amount\": 10,\n",
      "  \"identifier\": 3431574496914345870\n",
      " },\n",
      " {\n",
      "  \"block_number\": 2090974,\n",
      "  \"target\": \"0075703bf50aebe6755844c0c9b28cdb8f730933\",\n",
      "  \"amount\": 2,\n",
      "  \"identifier\": 13301531553482997377,\n",
      "  \"event_type\": \"EventTransferSentSuccess\"\n",
      " },\n",
      " {\n",
      "  \"block_number\": 2090979,\n",
      "  \"target\": \"0075703bf50aebe6755844c0c9b28cdb8f730933\",\n",
      "  \"amount\": 2,\n",
      "  \"identifier\": 14007094505595368453,\n",
      "  \"event_type\": \"EventTransferSentSuccess\"\n",
      " },\n",
      " {\n",
      "  \"block_number\": 2091160,\n",
      "  \"initiator\": \"0075703bf50aebe6755844c0c9b28cdb8f730933\",\n",
      "  \"event_type\": \"EventTransferReceivedSuccess\",\n",
      "  \"amount\": 2,\n",
      "  \"identifier\": 16098732949231806155\n",
      " },\n",
      " {\n",
      "  \"block_number\": 2091160,\n",
      "  \"initiator\": \"0075703bf50aebe6755844c0c9b28cdb8f730933\",\n",
      "  \"event_type\": \"EventTransferReceivedSuccess\",\n",
      "  \"amount\": 2,\n",
      "  \"identifier\": 15623382889280520122\n",
      " },\n",
      " {\n",
      "  \"block_number\": 2108179,\n",
      "  \"target\": \"0075703bf50aebe6755844c0c9b28cdb8f730933\",\n",
      "  \"amount\": 2,\n",
      "  \"identifier\": 15420885481100641213,\n",
      "  \"event_type\": \"EventTransferSentSuccess\"\n",
      " },\n",
      " {\n",
      "  \"block_number\": 2108204,\n",
      "  \"target\": \"0075703bf50aebe6755844c0c9b28cdb8f730933\",\n",
      "  \"amount\": 2,\n",
      "  \"identifier\": 18366563024333000575,\n",
      "  \"event_type\": \"EventTransferSentSuccess\"\n",
      " },\n",
      " {\n",
      "  \"block_number\": 2108213,\n",
      "  \"initiator\": \"0075703bf50aebe6755844c0c9b28cdb8f730933\",\n",
      "  \"event_type\": \"EventTransferReceivedSuccess\",\n",
      "  \"amount\": 2,\n",
      "  \"identifier\": 17221706272347606705\n",
      " },\n",
      " {\n",
      "  \"block_number\": 2108249,\n",
      "  \"target\": \"0075703bf50aebe6755844c0c9b28cdb8f730933\",\n",
      "  \"amount\": 10,\n",
      "  \"identifier\": 14240349481925753231,\n",
      "  \"event_type\": \"EventTransferSentSuccess\"\n",
      " },\n",
      " {\n",
      "  \"block_number\": 2108250,\n",
      "  \"initiator\": \"0075703bf50aebe6755844c0c9b28cdb8f730933\",\n",
      "  \"event_type\": \"EventTransferReceivedSuccess\",\n",
      "  \"amount\": 1,\n",
      "  \"identifier\": 977680640545099446\n",
      " },\n",
      " {\n",
      "  \"block_number\": 2108253,\n",
      "  \"target\": \"0075703bf50aebe6755844c0c9b28cdb8f730933\",\n",
      "  \"amount\": 100,\n",
      "  \"identifier\": 12510610302089313621,\n",
      "  \"event_type\": \"EventTransferSentSuccess\"\n",
      " },\n",
      " {\n",
      "  \"block_number\": 2108343,\n",
      "  \"reason\": \"no route available\",\n",
      "  \"event_type\": \"EventTransferSentFailed\",\n",
      "  \"identifier\": 18101474670687296409\n",
      " },\n",
      " {\n",
      "  \"block_number\": 2108391,\n",
      "  \"target\": \"0075703bf50aebe6755844c0c9b28cdb8f730933\",\n",
      "  \"amount\": 50,\n",
      "  \"identifier\": 3789298517284642396,\n",
      "  \"event_type\": \"EventTransferSentSuccess\"\n",
      " },\n",
      " {\n",
      "  \"block_number\": 2108391,\n",
      "  \"reason\": \"no route available\",\n",
      "  \"event_type\": \"EventTransferSentFailed\",\n",
      "  \"identifier\": 4413936901316195878\n",
      " },\n",
      " {\n",
      "  \"block_number\": 2108432,\n",
      "  \"target\": \"cbf7cad97e21fabdc4ee39518a71e979e1255d00\",\n",
      "  \"amount\": 50,\n",
      "  \"identifier\": 1702581769477838232,\n",
      "  \"event_type\": \"EventTransferSentSuccess\"\n",
      " },\n",
      " {\n",
      "  \"block_number\": 2108432,\n",
      "  \"initiator\": \"cbf7cad97e21fabdc4ee39518a71e979e1255d00\",\n",
      "  \"event_type\": \"EventTransferReceivedSuccess\",\n",
      "  \"amount\": 2,\n",
      "  \"identifier\": 15560084595971570913\n",
      " },\n",
      " {\n",
      "  \"block_number\": 2108433,\n",
      "  \"target\": \"cbf7cad97e21fabdc4ee39518a71e979e1255d00\",\n",
      "  \"amount\": 50,\n",
      "  \"identifier\": 14265619877889995763,\n",
      "  \"event_type\": \"EventTransferSentSuccess\"\n",
      " },\n",
      " {\n",
      "  \"block_number\": 2108433,\n",
      "  \"initiator\": \"cbf7cad97e21fabdc4ee39518a71e979e1255d00\",\n",
      "  \"event_type\": \"EventTransferReceivedSuccess\",\n",
      "  \"amount\": 2,\n",
      "  \"identifier\": 7527599535646654254\n",
      " },\n",
      " {\n",
      "  \"block_number\": 2108433,\n",
      "  \"initiator\": \"cbf7cad97e21fabdc4ee39518a71e979e1255d00\",\n",
      "  \"event_type\": \"EventTransferReceivedSuccess\",\n",
      "  \"amount\": 2,\n",
      "  \"identifier\": 15886786690911506545\n",
      " }\n",
      "]\n"
     ]
    }
   ],
   "source": [
    "get(raiden1 + '/api/1/events/channels/' + BET_chn)"
   ]
  },
  {
   "cell_type": "markdown",
   "metadata": {},
   "source": [
    "### Token Swaps"
   ]
  },
  {
   "cell_type": "markdown",
   "metadata": {},
   "source": [
    "Let's swap some BETs with some WEOU tokens"
   ]
  },
  {
   "cell_type": "code",
   "execution_count": 85,
   "metadata": {
    "collapsed": true
   },
   "outputs": [],
   "source": [
    "def balance(add, chn):\n",
    "    return req.get(add + '/api/1/channels/'+chn).json()['balance']"
   ]
  },
  {
   "cell_type": "code",
   "execution_count": 86,
   "metadata": {
    "collapsed": true
   },
   "outputs": [],
   "source": [
    "WeOU_chn = '0x3892cd9cbf8241810e405e1692250824fc210769'\n",
    "BET_chn =  '0x925b9f75374b5699720e2ae0e0888cd8e2d9e7c6'"
   ]
  },
  {
   "cell_type": "code",
   "execution_count": 93,
   "metadata": {},
   "outputs": [
    {
     "name": "stdout",
     "output_type": "stream",
     "text": [
      "Pierre1: BET= 9436 \t WeOU= 20\n"
     ]
    }
   ],
   "source": [
    "print('Pierre1: BET=',balance(raiden2, BET_chn), '\\t WeOU=', balance(raiden2, WeOU_chn))\n",
    "#print('Pierre2: BET=',balance(raiden2, BET_chn), '\\t WeOU=', balance(raiden2, WeOU_chn))"
   ]
  },
  {
   "cell_type": "code",
   "execution_count": null,
   "metadata": {},
   "outputs": [],
   "source": [
    "payload = {\n",
    "    \"role\": \"maker\",\n",
    "    \"sending_amount\": 2,\n",
    "    \"sending_token\": WeOU_add,\n",
    "    \"receiving_amount\": 5,\n",
    "    \"receiving_token\": BET_add\n",
    "}\n",
    "\n",
    "put(raiden2 + '/api/1/token_swaps/' + rp_troels + '/1337', json=payload)"
   ]
  },
  {
   "cell_type": "code",
   "execution_count": 166,
   "metadata": {},
   "outputs": [
    {
     "name": "stdout",
     "output_type": "stream",
     "text": [
      "{}\n"
     ]
    }
   ],
   "source": [
    "payload = {\n",
    "    \"role\": \"taker\",\n",
    "    \"sending_amount\": 5,\n",
    "    \"sending_token\": BET_add,    \n",
    "    \"receiving_amount\": 2,\n",
    "    \"receiving_token\": WeOU_add,\n",
    "}\n",
    "put(raiden2 + '/api/1/token_swaps/' + pierre1 + '/1337', json=payload)"
   ]
  },
  {
   "cell_type": "code",
   "execution_count": 167,
   "metadata": {},
   "outputs": [
    {
     "name": "stdout",
     "output_type": "stream",
     "text": [
      "Pierre1: BET= 1055 \t WeOU= 2\n",
      "Pierre2: BET= 45 \t WeOU= 21\n"
     ]
    }
   ],
   "source": [
    "print('Pierre1: BET=',balance(raiden1, BET_chn), '\\t WeOU=', balance(raiden1, WeOU_chn))\n",
    "print('Pierre2: BET=',balance(raiden2, BET_chn), '\\t WeOU=', balance(raiden2, WeOU_chn))"
   ]
  }
 ],
 "metadata": {
  "kernelspec": {
   "display_name": "Python 3",
   "language": "python",
   "name": "python3"
  },
  "language_info": {
   "codemirror_mode": {
    "name": "ipython",
    "version": 3
   },
   "file_extension": ".py",
   "mimetype": "text/x-python",
   "name": "python",
   "nbconvert_exporter": "python",
   "pygments_lexer": "ipython3",
   "version": "3.6.2"
  }
 },
 "nbformat": 4,
 "nbformat_minor": 2
}
